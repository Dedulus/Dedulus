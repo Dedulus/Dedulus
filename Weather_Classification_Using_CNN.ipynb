{
  "nbformat": 4,
  "nbformat_minor": 0,
  "metadata": {
    "colab": {
      "name": "Weather Classification Using CNN.ipynb",
      "provenance": [],
      "collapsed_sections": [],
      "include_colab_link": true
    },
    "kernelspec": {
      "name": "python3",
      "display_name": "Python 3"
    },
    "language_info": {
      "name": "python"
    },
    "accelerator": "GPU"
  },
  "cells": [
    {
      "cell_type": "markdown",
      "metadata": {
        "id": "view-in-github",
        "colab_type": "text"
      },
      "source": [
        "<a href=\"https://colab.research.google.com/github/Dedulus/Dedulus/blob/main/Weather_Classification_Using_CNN.ipynb\" target=\"_parent\"><img src=\"https://colab.research.google.com/assets/colab-badge.svg\" alt=\"Open In Colab\"/></a>"
      ]
    },
    {
      "cell_type": "markdown",
      "metadata": {
        "id": "tghAAZpRhrHw"
      },
      "source": [
        "# Multiclass Image Classification using CNN (KERAS)"
      ]
    },
    {
      "cell_type": "markdown",
      "metadata": {
        "id": "k3F3GeeOh2ti"
      },
      "source": [
        "## Step 1. Load data directory from Kaggle using API"
      ]
    },
    {
      "cell_type": "code",
      "metadata": {
        "id": "rCK-u2PXXgFo"
      },
      "source": [
        "import os\n"
      ],
      "execution_count": null,
      "outputs": []
    },
    {
      "cell_type": "markdown",
      "metadata": {
        "id": "SKAmDqKW-8Hr"
      },
      "source": [
        "## Step 2. Exploratory Data Analysis (EDA) "
      ]
    },
    {
      "cell_type": "code",
      "metadata": {
        "colab": {
          "base_uri": "https://localhost:8080/"
        },
        "id": "49JoYdpf5brP",
        "outputId": "af008f6e-e0d1-4d81-d0c8-1b50ee0d0bb8"
      },
      "source": [
        "import warnings\n",
        "warnings.filterwarnings('ignore')\n",
        "# Get all the paths\n",
        "data_dir_list = os.listdir('/content/dataset')\n",
        "print(data_dir_list)\n",
        "path, dirs, files = next(os.walk(\"/content/dataset\"))\n",
        "file_count = len(files)\n",
        "# print(file_count)"
      ],
      "execution_count": null,
      "outputs": [
        {
          "output_type": "stream",
          "name": "stdout",
          "text": [
            "['sunrise', 'cloudy', 'alien_test', 'test.csv', 'foggy', 'shine', 'rainy']\n"
          ]
        }
      ]
    },
    {
      "cell_type": "code",
      "metadata": {
        "id": "QZmUjGzW51-X"
      },
      "source": [
        "# Make new base directory\n",
        "original_dataset_dir = '/content/dataset'\n",
        "base_dir = '/content/weather-data/'\n",
        "os.mkdir(base_dir)"
      ],
      "execution_count": null,
      "outputs": []
    },
    {
      "cell_type": "code",
      "metadata": {
        "id": "IT52f9Uq6DWD"
      },
      "source": [
        "#create two folders (train and validation)\n",
        "train_dir = os.path.join(base_dir, 'train')\n",
        "os.mkdir(train_dir)\n",
        "\n",
        "validation_dir = os.path.join(base_dir, 'validation')\n",
        "os.mkdir(validation_dir)\n",
        "\n",
        "#Under train folder create five folders \n",
        "# (cloud, folly, rainy, shine, sunrise)\n",
        "\n",
        "train_cloud_dir = os.path.join(train_dir, 'cloudy')\n",
        "os.mkdir(train_cloud_dir)\n",
        "\n",
        "train_foggy_dir = os.path.join(train_dir, 'foggy')\n",
        "os.mkdir(train_foggy_dir)\n",
        "\n",
        "train_rainy_dir = os.path.join(train_dir, 'rainy')\n",
        "os.mkdir(train_rainy_dir)\n",
        "\n",
        "train_shine_dir = os.path.join(train_dir, 'shine')\n",
        "os.mkdir(train_shine_dir)\n",
        "\n",
        "train_sunrise_dir = os.path.join(train_dir, 'sunrise')\n",
        "os.mkdir(train_sunrise_dir)\n",
        "\n",
        "#Under validation folder create five folders \n",
        "# (cloud, folly, rainy, shine, sunrise)\n",
        "\n",
        "validation_cloud_dir = os.path.join(validation_dir, 'cloudy')\n",
        "os.mkdir(validation_cloud_dir)\n",
        "\n",
        "validation_foggy_dir = os.path.join(validation_dir, 'foggy')\n",
        "os.mkdir(validation_foggy_dir)\n",
        "\n",
        "validation_rainy_dir = os.path.join(validation_dir, 'rainy')\n",
        "os.mkdir(validation_rainy_dir)\n",
        "\n",
        "validation_shine_dir = os.path.join(validation_dir, 'shine')\n",
        "os.mkdir(validation_shine_dir)\n",
        "\n",
        "validation_sunrise_dir = os.path.join(validation_dir, 'sunrise')\n",
        "os.mkdir(validation_sunrise_dir)\n",
        "\n"
      ],
      "execution_count": null,
      "outputs": []
    },
    {
      "cell_type": "code",
      "metadata": {
        "id": "zHGl2Alq8ITZ"
      },
      "source": [
        "def split_data(SOURCE, TRAINING, VALIDATION, SPLIT_SIZE):\n",
        "    files = []\n",
        "    for filename in os.listdir(SOURCE):\n",
        "        file = SOURCE + filename\n",
        "        if os.path.getsize(file) > 0:\n",
        "            files.append(filename)\n",
        "        else:\n",
        "            print(filename + \" is zero length, so ignoring.\")\n",
        "\n",
        "    training_length = int(len(files) * SPLIT_SIZE)\n",
        "    valid_length = int(len(files) - training_length)\n",
        "    shuffled_set = random.sample(files, len(files))\n",
        "    training_set = shuffled_set[0:training_length]\n",
        "    valid_set = shuffled_set[training_length:]\n",
        "\n",
        "    for filename in training_set:\n",
        "        this_file = SOURCE + filename\n",
        "        destination = TRAINING + filename\n",
        "        copyfile(this_file, destination)\n",
        "\n",
        "    for filename in valid_set:\n",
        "        this_file = SOURCE + filename\n",
        "        destination = VALIDATION + filename\n",
        "        copyfile(this_file, destination)"
      ],
      "execution_count": null,
      "outputs": []
    },
    {
      "cell_type": "code",
      "metadata": {
        "id": "smSEhUsY8VIH"
      },
      "source": [
        "CLOUDY_SOURCE_DIR = '/content/dataset/cloudy/'\n",
        "TRAINING_CLOUDY_DIR = '/content/weather-data/train/cloudy/'\n",
        "VALID_CLOUDY_DIR = '/content/weather-data/validation/cloudy/'\n",
        "\n",
        "FOGGY_SOURCE_DIR = '/content/dataset/foggy/'\n",
        "TRAINING_FOGGY_DIR = '/content/weather-data/train/foggy/'\n",
        "VALID_FOGGY_DIR = '/content/weather-data/validation/foggy/'\n",
        "\n",
        "RAINY_SOURCE_DIR = '/content/dataset/rainy/'\n",
        "TRAINING_RAINY_DIR = '/content/weather-data/train/rainy/'\n",
        "VALID_RAINY_DIR = '/content/weather-data/validation/rainy/'\n",
        "\n",
        "SHINE_SOURCE_DIR = '/content/dataset/shine/'\n",
        "TRAINING_SHINE_DIR = '/content/weather-data/train/shine/'\n",
        "VALID_SHINE_DIR = '/content/weather-data/validation/shine/'\n",
        "\n",
        "SUNRISE_SOURCE_DIR = '/content/dataset/sunrise/'\n",
        "TRAINING_SUNRISE_DIR = '/content/weather-data/train/sunrise/'\n",
        "VALID_SUNRISE_DIR = '/content/weather-data/validation/sunrise/'"
      ],
      "execution_count": null,
      "outputs": []
    },
    {
      "cell_type": "code",
      "metadata": {
        "id": "6rDzzaxS87zW"
      },
      "source": [
        "import os\n",
        "import random\n",
        "from shutil import copyfile\n",
        "\n",
        "split_size = .85\n",
        "\n",
        "split_data(CLOUDY_SOURCE_DIR, TRAINING_CLOUDY_DIR, VALID_CLOUDY_DIR, split_size)\n",
        "split_data(FOGGY_SOURCE_DIR, TRAINING_FOGGY_DIR, VALID_FOGGY_DIR, split_size)\n",
        "split_data(RAINY_SOURCE_DIR, TRAINING_RAINY_DIR, VALID_RAINY_DIR, split_size)\n",
        "split_data(SHINE_SOURCE_DIR, TRAINING_SHINE_DIR, VALID_SHINE_DIR, split_size)\n",
        "split_data(SUNRISE_SOURCE_DIR, TRAINING_SUNRISE_DIR, VALID_SUNRISE_DIR, split_size)"
      ],
      "execution_count": null,
      "outputs": []
    },
    {
      "cell_type": "code",
      "metadata": {
        "colab": {
          "base_uri": "https://localhost:8080/",
          "height": 390
        },
        "id": "xYr8YTYV9Rhe",
        "outputId": "70916bc0-6a6e-4f76-b6ca-1e9399c5a43b"
      },
      "source": [
        "import matplotlib.pyplot as plt\n",
        "import seaborn as sns\n",
        "from matplotlib.image import imread\n",
        "import pathlib\n",
        "\n",
        "image_folder = ['cloudy', 'foggy', 'rainy', 'shine', 'sunrise']\n",
        "nimgs = {}\n",
        "for i in image_folder:\n",
        "    nimages = len(os.listdir('/content/weather-data/train/'+i+'/'))\n",
        "    nimgs[i]=nimages\n",
        "plt.figure(figsize=(9, 6))\n",
        "plt.bar(range(len(nimgs)), list(nimgs.values()), align='center')\n",
        "plt.xticks(range(len(nimgs)), list(nimgs.keys()))\n",
        "plt.title('Distribution of different classes in Training Dataset')\n",
        "plt.show()"
      ],
      "execution_count": null,
      "outputs": [
        {
          "output_type": "display_data",
          "data": {
            "text/plain": [
              "<Figure size 648x432 with 1 Axes>"
            ],
            "image/png": "[encoded data removed]"
          },
          "metadata": {
            "needs_background": "light"
          }
        }
      ]
    },
    {
      "cell_type": "code",
      "metadata": {
        "colab": {
          "base_uri": "https://localhost:8080/"
        },
        "id": "bBDBrhGP-Im1",
        "outputId": "43866745-9fba-40e1-aca3-3436b5a7d379"
      },
      "source": [
        "for i in ['cloudy', 'foggy', 'rainy', 'shine', 'sunrise']:\n",
        "    print('Training {} images are: '.format(i)+str(len(os.listdir('/content/weather-data/train/'+i+'/'))))"
      ],
      "execution_count": null,
      "outputs": [
        {
          "output_type": "stream",
          "name": "stdout",
          "text": [
            "Training cloudy images are: 255\n",
            "Training foggy images are: 255\n",
            "Training rainy images are: 255\n",
            "Training shine images are: 212\n",
            "Training sunrise images are: 297\n"
          ]
        }
      ]
    },
    {
      "cell_type": "code",
      "metadata": {
        "colab": {
          "base_uri": "https://localhost:8080/",
          "height": 390
        },
        "id": "6qo1Plu1-P1w",
        "outputId": "edce416d-024b-425c-b125-7b1aba9d20c9"
      },
      "source": [
        "image_folder = ['cloudy', 'foggy', 'rainy', 'shine', 'sunrise']\n",
        "nimgs = {}\n",
        "for i in image_folder:\n",
        "    nimages = len(os.listdir('/content/weather-data/validation/'+i+'/'))\n",
        "    nimgs[i]=nimages\n",
        "plt.figure(figsize=(9, 6))\n",
        "plt.bar(range(len(nimgs)), list(nimgs.values()), align='center')\n",
        "plt.xticks(range(len(nimgs)), list(nimgs.keys()))\n",
        "plt.title('Distribution of different classes in Validation Dataset')\n",
        "plt.show()"
      ],
      "execution_count": null,
      "outputs": [
        {
          "output_type": "display_data",
          "data": {
            "text/plain": [
              "<Figure size 648x432 with 1 Axes>"
            ],
            "image/png": "[encoded data removed]"
          },
          "metadata": {
            "needs_background": "light"
          }
        }
      ]
    },
    {
      "cell_type": "code",
      "metadata": {
        "colab": {
          "base_uri": "https://localhost:8080/"
        },
        "id": "LWdNEpsI-z2n",
        "outputId": "4bc01b63-774c-4760-9951-024bff709c12"
      },
      "source": [
        "for i in ['cloudy', 'foggy', 'rainy', 'shine', 'sunrise']:\n",
        "    print('Valid {} images are: '.format(i)+str(len(os.listdir('/content/weather-data/validation/'+i+'/'))))"
      ],
      "execution_count": null,
      "outputs": [
        {
          "output_type": "stream",
          "name": "stdout",
          "text": [
            "Valid cloudy images are: 45\n",
            "Valid foggy images are: 45\n",
            "Valid rainy images are: 45\n",
            "Valid shine images are: 38\n",
            "Valid sunrise images are: 53\n"
          ]
        }
      ]
    },
    {
      "cell_type": "markdown",
      "metadata": {
        "id": "dVBaGt0B_Nmi"
      },
      "source": [
        "## Step 3. Deep Learning with Data Augumentation "
      ]
    },
    {
      "cell_type": "code",
      "metadata": {
        "id": "KhZJ_xdd_VhG"
      },
      "source": [
        "from tensorflow.keras.optimizers import Adam\n",
        "from tensorflow.keras.preprocessing.image import ImageDataGenerator\n",
        "from tensorflow.keras.layers import Conv2D, MaxPooling2D, Flatten, Dense, Dropout\n",
        "from tensorflow.keras.models import Sequential\n",
        "from tensorflow.keras.callbacks import EarlyStopping, ModelCheckpoint"
      ],
      "execution_count": null,
      "outputs": []
    },
    {
      "cell_type": "code",
      "metadata": {
        "id": "w9fhSZNu_all"
      },
      "source": [
        "img_width=256; img_height=256\n",
        "batch_size=16"
      ],
      "execution_count": null,
      "outputs": []
    },
    {
      "cell_type": "code",
      "metadata": {
        "id": "FMspbg4L_dTG",
        "outputId": "be79383c-2a4f-4b76-ed13-cea0215ce70b",
        "colab": {
          "base_uri": "https://localhost:8080/"
        }
      },
      "source": [
        "TRAINING_DIR = '/content/weather-data/train/'\n",
        "\n",
        "train_datagen = ImageDataGenerator(rescale = 1/255.0,\n",
        "                                   rotation_range=30,\n",
        "                                   zoom_range=0.4,\n",
        "                                   horizontal_flip=True)\n",
        "\n",
        "train_generator = train_datagen.flow_from_directory(TRAINING_DIR,\n",
        "                                                    batch_size=batch_size,\n",
        "                                                    class_mode='categorical',\n",
        "                                                    target_size=(img_height, img_width))"
      ],
      "execution_count": null,
      "outputs": [
        {
          "output_type": "stream",
          "name": "stdout",
          "text": [
            "Found 1274 images belonging to 5 classes.\n"
          ]
        }
      ]
    },
    {
      "cell_type": "code",
      "metadata": {
        "colab": {
          "base_uri": "https://localhost:8080/"
        },
        "id": "3hW3KjQz_rXi",
        "outputId": "d54efcd0-74dc-457f-e932-f167d22aca8f"
      },
      "source": [
        "VALIDATION_DIR = '/content/weather-data/validation/'\n",
        "\n",
        "validation_datagen = ImageDataGenerator(rescale = 1/255.0)\n",
        "\n",
        "validation_generator = validation_datagen.flow_from_directory(VALIDATION_DIR,\n",
        "                                                              batch_size=batch_size,\n",
        "                                                              class_mode='categorical',\n",
        "                                                              target_size=(img_height, img_width)\n",
        "                                                             )"
      ],
      "execution_count": null,
      "outputs": [
        {
          "output_type": "stream",
          "name": "stdout",
          "text": [
            "Found 226 images belonging to 5 classes.\n"
          ]
        }
      ]
    },
    {
      "cell_type": "code",
      "metadata": {
        "id": "STMUpcmZ__no"
      },
      "source": [
        "callbacks = EarlyStopping(monitor='val_loss', patience=5, verbose=1, mode='auto')\n",
        "# autosave best Model\n",
        "best_model_file = '/content/CNN_aug_best_weights.h5'\n",
        "best_model = ModelCheckpoint(best_model_file, monitor='val_acc', verbose = 1, save_best_only = True)"
      ],
      "execution_count": null,
      "outputs": []
    },
    {
      "cell_type": "code",
      "metadata": {
        "colab": {
          "base_uri": "https://localhost:8080/"
        },
        "id": "yCfDkX9gAS6E",
        "outputId": "ec8fa37d-cf80-427f-f0b0-8022de26b8b3"
      },
      "source": [
        "model = Sequential([\n",
        "    Conv2D(16, (3, 3), activation='relu', input_shape=(img_height, img_width, 3)), MaxPooling2D(2, 2),\n",
        "    Conv2D(32, (3, 3), activation='relu'), MaxPooling2D(2, 2),\n",
        "    Conv2D(64, (3, 3), activation='relu'),\n",
        "    Conv2D(64, (3, 3), activation='relu'),\n",
        "    MaxPooling2D(2, 2),\n",
        "    Conv2D(128, (3, 3), activation='relu'),\n",
        "    Conv2D(128, (3, 3), activation='relu'),\n",
        "    MaxPooling2D(2, 2),\n",
        "    Conv2D(256, (3, 3), activation='relu'),\n",
        "    Conv2D(256, (3, 3), activation='relu'),\n",
        "    Conv2D(256, (3, 3), activation='relu'),\n",
        "    MaxPooling2D(2, 2),\n",
        "    Flatten(),\n",
        "    Dense(512, activation='relu'),\n",
        "    Dense(512, activation='relu'),\n",
        "    Dense(5, activation='softmax')\n",
        "])\n",
        "model.summary()"
      ],
      "execution_count": null,
      "outputs": [
        {
          "output_type": "stream",
          "name": "stdout",
          "text": [
            "Model: \"sequential\"\n",
            "_________________________________________________________________\n",
            " Layer (type)                Output Shape              Param #   \n",
            "=================================================================\n",
            " conv2d (Conv2D)             (None, 254, 254, 16)      448       \n",
            "                                                                 \n",
            " max_pooling2d (MaxPooling2D  (None, 127, 127, 16)     0         \n",
            " )                                                               \n",
            "                                                                 \n",
            " conv2d_1 (Conv2D)           (None, 125, 125, 32)      4640      \n",
            "                                                                 \n",
            " max_pooling2d_1 (MaxPooling  (None, 62, 62, 32)       0         \n",
            " 2D)                                                             \n",
            "                                                                 \n",
            " conv2d_2 (Conv2D)           (None, 60, 60, 64)        18496     \n",
            "                                                                 \n",
            " conv2d_3 (Conv2D)           (None, 58, 58, 64)        36928     \n",
            "                                                                 \n",
            " max_pooling2d_2 (MaxPooling  (None, 29, 29, 64)       0         \n",
            " 2D)                                                             \n",
            "                                                                 \n",
            " conv2d_4 (Conv2D)           (None, 27, 27, 128)       73856     \n",
            "                                                                 \n",
            " conv2d_5 (Conv2D)           (None, 25, 25, 128)       147584    \n",
            "                                                                 \n",
            " max_pooling2d_3 (MaxPooling  (None, 12, 12, 128)      0         \n",
            " 2D)                                                             \n",
            "                                                                 \n",
            " conv2d_6 (Conv2D)           (None, 10, 10, 256)       295168    \n",
            "                                                                 \n",
            " conv2d_7 (Conv2D)           (None, 8, 8, 256)         590080    \n",
            "                                                                 \n",
            " conv2d_8 (Conv2D)           (None, 6, 6, 256)         590080    \n",
            "                                                                 \n",
            " max_pooling2d_4 (MaxPooling  (None, 3, 3, 256)        0         \n",
            " 2D)                                                             \n",
            "                                                                 \n",
            " flatten (Flatten)           (None, 2304)              0         \n",
            "                                                                 \n",
            " dense (Dense)               (None, 512)               1180160   \n",
            "                                                                 \n",
            " dense_1 (Dense)             (None, 512)               262656    \n",
            "                                                                 \n",
            " dense_2 (Dense)             (None, 5)                 2565      \n",
            "                                                                 \n",
            "=================================================================\n",
            "Total params: 3,202,661\n",
            "Trainable params: 3,202,661\n",
            "Non-trainable params: 0\n",
            "_________________________________________________________________\n"
          ]
        }
      ]
    },
    {
      "cell_type": "code",
      "metadata": {
        "id": "9wAtEeklAf8n"
      },
      "source": [
        "model.compile(optimizer='Adam', \n",
        "              loss='categorical_crossentropy', \n",
        "              metrics =['accuracy'])"
      ],
      "execution_count": null,
      "outputs": []
    },
    {
      "cell_type": "code",
      "metadata": {
        "colab": {
          "base_uri": "https://localhost:8080/"
        },
        "id": "_Vn4LOhM__qg",
        "outputId": "ad2b4822-c9ba-4f5c-b86e-b77c8b4401d0"
      },
      "source": [
        "history = model.fit_generator(train_generator,\n",
        "                              epochs=30,\n",
        "                              verbose=1,\n",
        "                              validation_data=validation_generator,\n",
        "                              callbacks = [best_model]\n",
        "                              )"
      ],
      "execution_count": null,
      "outputs": [
        {
          "output_type": "stream",
          "name": "stdout",
          "text": [
            "Epoch 1/30\n",
            "80/80 [==============================] - ETA: 0s - loss: 1.3763 - accuracy: 0.3713WARNING:tensorflow:Can save best model only with val_acc available, skipping.\n",
            "80/80 [==============================] - 38s 341ms/step - loss: 1.3763 - accuracy: 0.3713 - val_loss: 1.1460 - val_accuracy: 0.4292\n",
            "Epoch 2/30\n",
            "80/80 [==============================] - ETA: 0s - loss: 1.2264 - accuracy: 0.4137WARNING:tensorflow:Can save best model only with val_acc available, skipping.\n",
            "80/80 [==============================] - 27s 333ms/step - loss: 1.2264 - accuracy: 0.4137 - val_loss: 1.1144 - val_accuracy: 0.4646\n",
            "Epoch 3/30\n",
            "80/80 [==============================] - ETA: 0s - loss: 1.1902 - accuracy: 0.4278WARNING:tensorflow:Can save best model only with val_acc available, skipping.\n",
            "80/80 [==============================] - 27s 344ms/step - loss: 1.1902 - accuracy: 0.4278 - val_loss: 1.1194 - val_accuracy: 0.4690\n",
            "Epoch 4/30\n",
            "80/80 [==============================] - ETA: 0s - loss: 1.1953 - accuracy: 0.4231WARNING:tensorflow:Can save best model only with val_acc available, skipping.\n",
            "80/80 [==============================] - 27s 329ms/step - loss: 1.1953 - accuracy: 0.4231 - val_loss: 1.1028 - val_accuracy: 0.4690\n",
            "Epoch 5/30\n",
            "80/80 [==============================] - ETA: 0s - loss: 1.0589 - accuracy: 0.5055WARNING:tensorflow:Can save best model only with val_acc available, skipping.\n",
            "80/80 [==============================] - 26s 330ms/step - loss: 1.0589 - accuracy: 0.5055 - val_loss: 0.8339 - val_accuracy: 0.5929\n",
            "Epoch 6/30\n",
            "80/80 [==============================] - ETA: 0s - loss: 1.1230 - accuracy: 0.4702WARNING:tensorflow:Can save best model only with val_acc available, skipping.\n",
            "80/80 [==============================] - 26s 330ms/step - loss: 1.1230 - accuracy: 0.4702 - val_loss: 1.1902 - val_accuracy: 0.3805\n",
            "Epoch 7/30\n",
            "80/80 [==============================] - ETA: 0s - loss: 1.2092 - accuracy: 0.4144WARNING:tensorflow:Can save best model only with val_acc available, skipping.\n",
            "80/80 [==============================] - 26s 328ms/step - loss: 1.2092 - accuracy: 0.4144 - val_loss: 0.9939 - val_accuracy: 0.5442\n",
            "Epoch 8/30\n",
            "80/80 [==============================] - ETA: 0s - loss: 1.0568 - accuracy: 0.5581WARNING:tensorflow:Can save best model only with val_acc available, skipping.\n",
            "80/80 [==============================] - 26s 327ms/step - loss: 1.0568 - accuracy: 0.5581 - val_loss: 0.9769 - val_accuracy: 0.5885\n",
            "Epoch 9/30\n",
            "80/80 [==============================] - ETA: 0s - loss: 0.9790 - accuracy: 0.5424WARNING:tensorflow:Can save best model only with val_acc available, skipping.\n",
            "80/80 [==============================] - 26s 331ms/step - loss: 0.9790 - accuracy: 0.5424 - val_loss: 0.9519 - val_accuracy: 0.5752\n",
            "Epoch 10/30\n",
            "80/80 [==============================] - ETA: 0s - loss: 0.9522 - accuracy: 0.5392WARNING:tensorflow:Can save best model only with val_acc available, skipping.\n",
            "80/80 [==============================] - 26s 328ms/step - loss: 0.9522 - accuracy: 0.5392 - val_loss: 0.8634 - val_accuracy: 0.6018\n",
            "Epoch 11/30\n",
            "80/80 [==============================] - ETA: 0s - loss: 0.9739 - accuracy: 0.5722WARNING:tensorflow:Can save best model only with val_acc available, skipping.\n",
            "80/80 [==============================] - 26s 327ms/step - loss: 0.9739 - accuracy: 0.5722 - val_loss: 0.7825 - val_accuracy: 0.6062\n",
            "Epoch 12/30\n",
            "80/80 [==============================] - ETA: 0s - loss: 0.9438 - accuracy: 0.5620WARNING:tensorflow:Can save best model only with val_acc available, skipping.\n",
            "80/80 [==============================] - 26s 330ms/step - loss: 0.9438 - accuracy: 0.5620 - val_loss: 0.8995 - val_accuracy: 0.6504\n",
            "Epoch 13/30\n",
            "80/80 [==============================] - ETA: 0s - loss: 0.9340 - accuracy: 0.5699WARNING:tensorflow:Can save best model only with val_acc available, skipping.\n",
            "80/80 [==============================] - 26s 330ms/step - loss: 0.9340 - accuracy: 0.5699 - val_loss: 0.8133 - val_accuracy: 0.6549\n",
            "Epoch 14/30\n",
            "80/80 [==============================] - ETA: 0s - loss: 0.9317 - accuracy: 0.5785WARNING:tensorflow:Can save best model only with val_acc available, skipping.\n",
            "80/80 [==============================] - 26s 329ms/step - loss: 0.9317 - accuracy: 0.5785 - val_loss: 0.8797 - val_accuracy: 0.6637\n",
            "Epoch 15/30\n",
            "80/80 [==============================] - ETA: 0s - loss: 0.9355 - accuracy: 0.5793WARNING:tensorflow:Can save best model only with val_acc available, skipping.\n",
            "80/80 [==============================] - 26s 328ms/step - loss: 0.9355 - accuracy: 0.5793 - val_loss: 0.8375 - val_accuracy: 0.5708\n",
            "Epoch 16/30\n",
            "80/80 [==============================] - ETA: 0s - loss: 0.9476 - accuracy: 0.5808WARNING:tensorflow:Can save best model only with val_acc available, skipping.\n",
            "80/80 [==============================] - 26s 329ms/step - loss: 0.9476 - accuracy: 0.5808 - val_loss: 0.8766 - val_accuracy: 0.5796\n",
            "Epoch 17/30\n",
            "80/80 [==============================] - ETA: 0s - loss: 0.8846 - accuracy: 0.5879WARNING:tensorflow:Can save best model only with val_acc available, skipping.\n",
            "80/80 [==============================] - 26s 330ms/step - loss: 0.8846 - accuracy: 0.5879 - val_loss: 0.7807 - val_accuracy: 0.6726\n",
            "Epoch 18/30\n",
            "80/80 [==============================] - ETA: 0s - loss: 0.8927 - accuracy: 0.6091WARNING:tensorflow:Can save best model only with val_acc available, skipping.\n",
            "80/80 [==============================] - 26s 331ms/step - loss: 0.8927 - accuracy: 0.6091 - val_loss: 0.7792 - val_accuracy: 0.6062\n",
            "Epoch 19/30\n",
            "80/80 [==============================] - ETA: 0s - loss: 0.8575 - accuracy: 0.6146WARNING:tensorflow:Can save best model only with val_acc available, skipping.\n",
            "80/80 [==============================] - 26s 329ms/step - loss: 0.8575 - accuracy: 0.6146 - val_loss: 0.7719 - val_accuracy: 0.6770\n",
            "Epoch 20/30\n",
            "80/80 [==============================] - ETA: 0s - loss: 0.8754 - accuracy: 0.6193WARNING:tensorflow:Can save best model only with val_acc available, skipping.\n",
            "80/80 [==============================] - 26s 330ms/step - loss: 0.8754 - accuracy: 0.6193 - val_loss: 0.8139 - val_accuracy: 0.6593\n",
            "Epoch 21/30\n",
            "80/80 [==============================] - ETA: 0s - loss: 0.8599 - accuracy: 0.6327WARNING:tensorflow:Can save best model only with val_acc available, skipping.\n",
            "80/80 [==============================] - 26s 330ms/step - loss: 0.8599 - accuracy: 0.6327 - val_loss: 0.7983 - val_accuracy: 0.6460\n",
            "Epoch 22/30\n",
            "80/80 [==============================] - ETA: 0s - loss: 0.8542 - accuracy: 0.6311WARNING:tensorflow:Can save best model only with val_acc available, skipping.\n",
            "80/80 [==============================] - 26s 329ms/step - loss: 0.8542 - accuracy: 0.6311 - val_loss: 0.7494 - val_accuracy: 0.6770\n",
            "Epoch 23/30\n",
            "80/80 [==============================] - ETA: 0s - loss: 0.8429 - accuracy: 0.6515WARNING:tensorflow:Can save best model only with val_acc available, skipping.\n",
            "80/80 [==============================] - 26s 329ms/step - loss: 0.8429 - accuracy: 0.6515 - val_loss: 0.7073 - val_accuracy: 0.7168\n",
            "Epoch 24/30\n",
            "80/80 [==============================] - ETA: 0s - loss: 0.8307 - accuracy: 0.6358WARNING:tensorflow:Can save best model only with val_acc available, skipping.\n",
            "80/80 [==============================] - 26s 328ms/step - loss: 0.8307 - accuracy: 0.6358 - val_loss: 0.7356 - val_accuracy: 0.6814\n",
            "Epoch 25/30\n",
            "80/80 [==============================] - ETA: 0s - loss: 0.8127 - accuracy: 0.6625WARNING:tensorflow:Can save best model only with val_acc available, skipping.\n",
            "80/80 [==============================] - 26s 331ms/step - loss: 0.8127 - accuracy: 0.6625 - val_loss: 0.7609 - val_accuracy: 0.6460\n",
            "Epoch 26/30\n",
            "80/80 [==============================] - ETA: 0s - loss: 0.7701 - accuracy: 0.6735WARNING:tensorflow:Can save best model only with val_acc available, skipping.\n",
            "80/80 [==============================] - 26s 323ms/step - loss: 0.7701 - accuracy: 0.6735 - val_loss: 0.7178 - val_accuracy: 0.6770\n",
            "Epoch 27/30\n",
            "80/80 [==============================] - ETA: 0s - loss: 0.7706 - accuracy: 0.6719WARNING:tensorflow:Can save best model only with val_acc available, skipping.\n",
            "80/80 [==============================] - 26s 329ms/step - loss: 0.7706 - accuracy: 0.6719 - val_loss: 0.7872 - val_accuracy: 0.6549\n",
            "Epoch 28/30\n",
            "80/80 [==============================] - ETA: 0s - loss: 0.8034 - accuracy: 0.6735WARNING:tensorflow:Can save best model only with val_acc available, skipping.\n",
            "80/80 [==============================] - 26s 331ms/step - loss: 0.8034 - accuracy: 0.6735 - val_loss: 0.6952 - val_accuracy: 0.6947\n",
            "Epoch 29/30\n",
            "80/80 [==============================] - ETA: 0s - loss: 0.7963 - accuracy: 0.6680WARNING:tensorflow:Can save best model only with val_acc available, skipping.\n",
            "80/80 [==============================] - 26s 327ms/step - loss: 0.7963 - accuracy: 0.6680 - val_loss: 0.7131 - val_accuracy: 0.6858\n",
            "Epoch 30/30\n",
            "80/80 [==============================] - ETA: 0s - loss: 0.8007 - accuracy: 0.6523WARNING:tensorflow:Can save best model only with val_acc available, skipping.\n",
            "80/80 [==============================] - 26s 329ms/step - loss: 0.8007 - accuracy: 0.6523 - val_loss: 0.7228 - val_accuracy: 0.6726\n"
          ]
        }
      ]
    },
    {
      "cell_type": "code",
      "metadata": {
        "colab": {
          "base_uri": "https://localhost:8080/",
          "height": 458
        },
        "id": "fbeBi1UeGJkb",
        "outputId": "ab99952b-cc8e-42af-ee5d-0fbe88cbc2f8"
      },
      "source": [
        "acc=history.history['accuracy']\n",
        "val_acc=history.history['val_accuracy']\n",
        "loss=history.history['loss']\n",
        "val_loss=history.history['val_loss']\n",
        "\n",
        "epochs=range(len(acc))\n",
        "\n",
        "fig = plt.figure(figsize=(14,7))\n",
        "plt.plot(epochs, acc, 'r', label=\"Training Accuracy\")\n",
        "plt.plot(epochs, val_acc, 'b', label=\"Validation Accuracy\")\n",
        "plt.xlabel('Epoch')\n",
        "plt.ylabel('Accuracy')\n",
        "plt.title('Training and validation accuracy')\n",
        "plt.legend(loc='lower right')\n",
        "plt.show()"
      ],
      "execution_count": null,
      "outputs": [
        {
          "output_type": "display_data",
          "data": {
            "text/plain": [
              "<Figure size 1008x504 with 1 Axes>"
            ],
            "image/png": "[encoded data removed]"
          },
          "metadata": {
            "needs_background": "light"
          }
        }
      ]
    },
    {
      "cell_type": "code",
      "metadata": {
        "colab": {
          "base_uri": "https://localhost:8080/",
          "height": 475
        },
        "id": "YQypRwoyGZ83",
        "outputId": "a8c70494-dd2e-46ad-acf0-580ed4279d29"
      },
      "source": [
        "fig2 = plt.figure(figsize=(14,7))\n",
        "plt.plot(epochs, loss, 'r', label=\"Training Loss\")\n",
        "plt.plot(epochs, val_loss, 'b', label=\"Validation Loss\")\n",
        "plt.legend(loc='upper right')\n",
        "plt.xlabel('Epoch')\n",
        "plt.ylabel('Loss')\n",
        "plt.title('Training and validation loss')"
      ],
      "execution_count": null,
      "outputs": [
        {
          "output_type": "execute_result",
          "data": {
            "text/plain": [
              "Text(0.5, 1.0, 'Training and validation loss')"
            ]
          },
          "metadata": {},
          "execution_count": 24
        },
        {
          "output_type": "display_data",
          "data": {
            "text/plain": [
              "<Figure size 1008x504 with 1 Axes>"
            ],
            "image/png": "[encoded data removed]"
          },
          "metadata": {
            "needs_background": "light"
          }
        }
      ]
    },
    {
      "cell_type": "code",
      "metadata": {
        "id": "dF3IdyGgj9jU"
      },
      "source": [
        "## Test Performance on Test Data\n",
        "import pandas as pd\n",
        "import numpy as np\n",
        "from keras.preprocessing.image import load_img, img_to_array\n",
        "\n",
        "def preprocess_image(path):\n",
        "    img = load_img(path, target_size = (img_height, img_width))\n",
        "    a = img_to_array(img)\n",
        "    a = np.expand_dims(a, axis = 0)\n",
        "    a /= 255.\n",
        "    return a"
      ],
      "execution_count": null,
      "outputs": []
    },
    {
      "cell_type": "markdown",
      "metadata": {
        "id": "Oq8b8D0MivhP"
      },
      "source": [
        "## Step 4. Checking performance on Test Data (Out of the sample)"
      ]
    },
    {
      "cell_type": "code",
      "metadata": {
        "id": "mJjXnnVpkHPJ"
      },
      "source": [
        "# Read Test Images Dir and their labels\n",
        "test_images_dir = '/content/dataset/alien_test/'\n",
        "test_df = pd.read_csv('/content/dataset/test.csv')\n",
        "\n",
        "# put them in a list\n",
        "test_dfToList = test_df['Image_id'].tolist()\n",
        "test_ids = [str(item) for item in test_dfToList]\n",
        "\n",
        "test_images = [test_images_dir+item for item in test_ids]\n",
        "test_preprocessed_images = np.vstack([preprocess_image(fn) for fn in test_images])\n",
        "np.save('/content/test_preproc_CNN.npy', test_preprocessed_images)"
      ],
      "execution_count": null,
      "outputs": []
    },
    {
      "cell_type": "code",
      "metadata": {
        "id": "idO7jhtBksWI",
        "colab": {
          "base_uri": "https://localhost:8080/"
        },
        "outputId": "043c3124-165f-4cac-b13b-fd99b5088638"
      },
      "source": [
        "array = model.predict(test_preprocessed_images, batch_size=1, verbose=1)\n",
        "answer = np.argmax(array, axis=1)\n",
        "print(answer)"
      ],
      "execution_count": null,
      "outputs": [
        {
          "output_type": "stream",
          "name": "stdout",
          "text": [
            "30/30 [==============================] - 0s 3ms/step\n",
            "[1 1 3 3 1 0 2 1 1 2 4 3 1 1 1 2 1 1 2 1 3 3 3 4 4 4 4 4 4 4]\n"
          ]
        }
      ]
    },
    {
      "cell_type": "code",
      "metadata": {
        "id": "XBqnNr0_kvja",
        "colab": {
          "base_uri": "https://localhost:8080/"
        },
        "outputId": "39838064-a0cb-44df-d365-7cb51b414c08"
      },
      "source": [
        "test_df = pd.read_csv('/content/dataset/test.csv')\n",
        "y_true = test_df['labels']\n",
        "y_pred = array\n",
        "print(y_true)"
      ],
      "execution_count": null,
      "outputs": [
        {
          "output_type": "stream",
          "name": "stdout",
          "text": [
            "0     0\n",
            "1     0\n",
            "2     0\n",
            "3     0\n",
            "4     1\n",
            "5     1\n",
            "6     1\n",
            "7     1\n",
            "8     1\n",
            "9     1\n",
            "10    1\n",
            "11    1\n",
            "12    1\n",
            "13    1\n",
            "14    2\n",
            "15    2\n",
            "16    2\n",
            "17    2\n",
            "18    2\n",
            "19    2\n",
            "20    3\n",
            "21    3\n",
            "22    3\n",
            "23    4\n",
            "24    4\n",
            "25    4\n",
            "26    4\n",
            "27    4\n",
            "28    4\n",
            "29    4\n",
            "Name: labels, dtype: int64\n"
          ]
        }
      ]
    },
    {
      "cell_type": "code",
      "metadata": {
        "id": "YEeG6m8ik211"
      },
      "source": [
        "from sklearn.metrics import log_loss\n",
        "loss = log_loss(y_true, y_pred, eps=1e-15, normalize=True, sample_weight=None, labels=None)"
      ],
      "execution_count": null,
      "outputs": []
    },
    {
      "cell_type": "code",
      "metadata": {
        "id": "cJeF6L3Dk-re",
        "colab": {
          "base_uri": "https://localhost:8080/"
        },
        "outputId": "65c6cfa3-fee4-45f1-e1ad-607bdd54cad3"
      },
      "source": [
        "from sklearn.metrics import confusion_matrix\n",
        "conf_mat = confusion_matrix(y_true, answer)\n",
        "conf_mat"
      ],
      "execution_count": null,
      "outputs": [
        {
          "output_type": "execute_result",
          "data": {
            "text/plain": [
              "array([[0, 2, 0, 2, 0],\n",
              "       [1, 5, 2, 1, 1],\n",
              "       [0, 4, 2, 0, 0],\n",
              "       [0, 0, 0, 3, 0],\n",
              "       [0, 0, 0, 0, 7]])"
            ]
          },
          "metadata": {},
          "execution_count": 30
        }
      ]
    },
    {
      "cell_type": "code",
      "metadata": {
        "id": "EpJCHqjfla9x"
      },
      "source": [
        "train_dir = '/content/weather-data/train/'\n",
        "classes = os.listdir(train_dir)"
      ],
      "execution_count": null,
      "outputs": []
    },
    {
      "cell_type": "code",
      "metadata": {
        "id": "Pt6qK1rMloRn"
      },
      "source": [
        "import itertools\n",
        "def plot_confusion_matrix(cm, classes,\n",
        "                          normalize=False,\n",
        "                          title='Confusion matrix',\n",
        "                          cmap=plt.cm.Reds):\n",
        "    \"\"\"\n",
        "    This function prints and plots the confusion matrix.\n",
        "    Normalization can be applied by setting `normalize=True`.\n",
        "    \"\"\"\n",
        "    plt.imshow(cm, interpolation='nearest', cmap=cmap)\n",
        "    plt.title(title)\n",
        "    plt.colorbar()\n",
        "    tick_marks = np.arange(len(classes))\n",
        "    plt.xticks(tick_marks, classes, rotation=45)\n",
        "    plt.yticks(tick_marks, classes)\n",
        "\n",
        "    if normalize:\n",
        "        cm = cm.astype('float') / cm.sum(axis=1)[:, np.newaxis]\n",
        "        cm = cm.round(2)\n",
        "        #print(\"Normalized confusion matrix\")\n",
        "    else:\n",
        "        cm=cm\n",
        "        #print('Confusion matrix, without normalization')\n",
        "\n",
        "    #print(cm)\n",
        "\n",
        "    thresh = cm.max() / 2.\n",
        "    for i, j in itertools.product(range(cm.shape[0]), range(cm.shape[1])):\n",
        "        plt.text(j, i, cm[i, j],\n",
        "                 horizontalalignment=\"center\",\n",
        "                 color=\"white\" if cm[i, j] > thresh else \"black\")\n",
        "\n",
        "    plt.tight_layout()\n",
        "    plt.ylabel('True label')\n",
        "    plt.xlabel('Predicted label')"
      ],
      "execution_count": null,
      "outputs": []
    },
    {
      "cell_type": "code",
      "metadata": {
        "id": "1rKjw0wPlsmP",
        "colab": {
          "base_uri": "https://localhost:8080/",
          "height": 452
        },
        "outputId": "17f0bc6b-a8e9-4e90-d3cc-10d02079cdf1"
      },
      "source": [
        "np.set_printoptions(precision=2)\n",
        "\n",
        "fig1 = plt.figure(figsize=(7,6))\n",
        "plot_confusion_matrix(conf_mat, classes=classes, title='Confusion matrix, without normalization')\n",
        "plt.show()"
      ],
      "execution_count": null,
      "outputs": [
        {
          "output_type": "display_data",
          "data": {
            "text/plain": [
              "<Figure size 504x432 with 2 Axes>"
            ],
            "image/png": "[encoded data removed]"
          },
          "metadata": {
            "needs_background": "light"
          }
        }
      ]
    }
  ]
}
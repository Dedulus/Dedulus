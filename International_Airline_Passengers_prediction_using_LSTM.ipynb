{
  "nbformat": 4,
  "nbformat_minor": 0,
  "metadata": {
    "colab": {
      "name": "International Airline Passengers prediction using LSTM",
      "provenance": [],
      "authorship_tag": "ABX9TyPlEBZuRlhnY4cq/XECaehG",
      "include_colab_link": true
    },
    "kernelspec": {
      "name": "python3",
      "display_name": "Python 3"
    },
    "language_info": {
      "name": "python"
    }
  },
  "cells": [
    {
      "cell_type": "markdown",
      "metadata": {
        "id": "view-in-github",
        "colab_type": "text"
      },
      "source": [
        "<a href=\"https://colab.research.google.com/github/Dedulus/Dedulus/blob/main/International_Airline_Passengers_prediction_using_LSTM.ipynb\" target=\"_parent\"><img src=\"https://colab.research.google.com/assets/colab-badge.svg\" alt=\"Open In Colab\"/></a>"
      ]
    },
    {
      "cell_type": "code",
      "execution_count": 3,
      "metadata": {
        "id": "FRKIYKfGNk5i"
      },
      "outputs": [],
      "source": [
        "import numpy\n",
        "import matplotlib.pyplot as plt\n",
        "import pandas\n",
        "import math\n",
        "from keras.models import Sequential\n",
        "from keras.layers import Dense\n",
        "from keras.layers import LSTM\n",
        "from sklearn.preprocessing import MinMaxScaler\n",
        "from sklearn.metrics import mean_squared_error"
      ]
    },
    {
      "cell_type": "code",
      "source": [
        "from google.colab import files\n",
        "files.upload()"
      ],
      "metadata": {
        "colab": {
          "resources": {
            "http://localhost:8080/nbextensions/google.colab/files.js": {
              "data": "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",
              "ok": true,
              "headers": [
                [
                  "content-type",
                  "application/javascript"
                ]
              ],
              "status": 200,
              "status_text": ""
            }
          },
          "base_uri": "https://localhost:8080/",
          "height": 111
        },
        "id": "PStaTNg8Ny71",
        "outputId": "f38971b6-38a2-4d01-cbe9-94d7aadca035"
      },
      "execution_count": 4,
      "outputs": [
        {
          "output_type": "display_data",
          "data": {
            "text/plain": [
              "<IPython.core.display.HTML object>"
            ],
            "text/html": [
              "\n",
              "     <input type=\"file\" id=\"files-ce1610e5-eff5-4362-91ae-217cbc8cf6eb\" name=\"files[]\" multiple disabled\n",
              "        style=\"border:none\" />\n",
              "     <output id=\"result-ce1610e5-eff5-4362-91ae-217cbc8cf6eb\">\n",
              "      Upload widget is only available when the cell has been executed in the\n",
              "      current browser session. Please rerun this cell to enable.\n",
              "      </output>\n",
              "      <script src=\"/nbextensions/google.colab/files.js\"></script> "
            ]
          },
          "metadata": {}
        },
        {
          "output_type": "stream",
          "name": "stdout",
          "text": [
            "Saving international-airline-passengers.csv to international-airline-passengers.csv\n"
          ]
        },
        {
          "output_type": "execute_result",
          "data": {
            "text/plain": [
              "{'international-airline-passengers.csv': b'\"Month\",\"International airline passengers: monthly totals in thousands. Jan 49 ? Dec 60\"\\r\\n\"1949-01\",112\\r\\n\"1949-02\",118\\r\\n\"1949-03\",132\\r\\n\"1949-04\",129\\r\\n\"1949-05\",121\\r\\n\"1949-06\",135\\r\\n\"1949-07\",148\\r\\n\"1949-08\",148\\r\\n\"1949-09\",136\\r\\n\"1949-10\",119\\r\\n\"1949-11\",104\\r\\n\"1949-12\",118\\r\\n\"1950-01\",115\\r\\n\"1950-02\",126\\r\\n\"1950-03\",141\\r\\n\"1950-04\",135\\r\\n\"1950-05\",125\\r\\n\"1950-06\",149\\r\\n\"1950-07\",170\\r\\n\"1950-08\",170\\r\\n\"1950-09\",158\\r\\n\"1950-10\",133\\r\\n\"1950-11\",114\\r\\n\"1950-12\",140\\r\\n\"1951-01\",145\\r\\n\"1951-02\",150\\r\\n\"1951-03\",178\\r\\n\"1951-04\",163\\r\\n\"1951-05\",172\\r\\n\"1951-06\",178\\r\\n\"1951-07\",199\\r\\n\"1951-08\",199\\r\\n\"1951-09\",184\\r\\n\"1951-10\",162\\r\\n\"1951-11\",146\\r\\n\"1951-12\",166\\r\\n\"1952-01\",171\\r\\n\"1952-02\",180\\r\\n\"1952-03\",193\\r\\n\"1952-04\",181\\r\\n\"1952-05\",183\\r\\n\"1952-06\",218\\r\\n\"1952-07\",230\\r\\n\"1952-08\",242\\r\\n\"1952-09\",209\\r\\n\"1952-10\",191\\r\\n\"1952-11\",172\\r\\n\"1952-12\",194\\r\\n\"1953-01\",196\\r\\n\"1953-02\",196\\r\\n\"1953-03\",236\\r\\n\"1953-04\",235\\r\\n\"1953-05\",229\\r\\n\"1953-06\",243\\r\\n\"1953-07\",264\\r\\n\"1953-08\",272\\r\\n\"1953-09\",237\\r\\n\"1953-10\",211\\r\\n\"1953-11\",180\\r\\n\"1953-12\",201\\r\\n\"1954-01\",204\\r\\n\"1954-02\",188\\r\\n\"1954-03\",235\\r\\n\"1954-04\",227\\r\\n\"1954-05\",234\\r\\n\"1954-06\",264\\r\\n\"1954-07\",302\\r\\n\"1954-08\",293\\r\\n\"1954-09\",259\\r\\n\"1954-10\",229\\r\\n\"1954-11\",203\\r\\n\"1954-12\",229\\r\\n\"1955-01\",242\\r\\n\"1955-02\",233\\r\\n\"1955-03\",267\\r\\n\"1955-04\",269\\r\\n\"1955-05\",270\\r\\n\"1955-06\",315\\r\\n\"1955-07\",364\\r\\n\"1955-08\",347\\r\\n\"1955-09\",312\\r\\n\"1955-10\",274\\r\\n\"1955-11\",237\\r\\n\"1955-12\",278\\r\\n\"1956-01\",284\\r\\n\"1956-02\",277\\r\\n\"1956-03\",317\\r\\n\"1956-04\",313\\r\\n\"1956-05\",318\\r\\n\"1956-06\",374\\r\\n\"1956-07\",413\\r\\n\"1956-08\",405\\r\\n\"1956-09\",355\\r\\n\"1956-10\",306\\r\\n\"1956-11\",271\\r\\n\"1956-12\",306\\r\\n\"1957-01\",315\\r\\n\"1957-02\",301\\r\\n\"1957-03\",356\\r\\n\"1957-04\",348\\r\\n\"1957-05\",355\\r\\n\"1957-06\",422\\r\\n\"1957-07\",465\\r\\n\"1957-08\",467\\r\\n\"1957-09\",404\\r\\n\"1957-10\",347\\r\\n\"1957-11\",305\\r\\n\"1957-12\",336\\r\\n\"1958-01\",340\\r\\n\"1958-02\",318\\r\\n\"1958-03\",362\\r\\n\"1958-04\",348\\r\\n\"1958-05\",363\\r\\n\"1958-06\",435\\r\\n\"1958-07\",491\\r\\n\"1958-08\",505\\r\\n\"1958-09\",404\\r\\n\"1958-10\",359\\r\\n\"1958-11\",310\\r\\n\"1958-12\",337\\r\\n\"1959-01\",360\\r\\n\"1959-02\",342\\r\\n\"1959-03\",406\\r\\n\"1959-04\",396\\r\\n\"1959-05\",420\\r\\n\"1959-06\",472\\r\\n\"1959-07\",548\\r\\n\"1959-08\",559\\r\\n\"1959-09\",463\\r\\n\"1959-10\",407\\r\\n\"1959-11\",362\\r\\n\"1959-12\",405\\r\\n\"1960-01\",417\\r\\n\"1960-02\",391\\r\\n\"1960-03\",419\\r\\n\"1960-04\",461\\r\\n\"1960-05\",472\\r\\n\"1960-06\",535\\r\\n\"1960-07\",622\\r\\n\"1960-08\",606\\r\\n\"1960-09\",508\\r\\n\"1960-10\",461\\r\\n\"1960-11\",390\\r\\n\"1960-12\",432\\r\\n\\r\\nInternational airline passengers: monthly totals in thousands. Jan 49 ? Dec 60\\r\\n\\r\\n'}"
            ]
          },
          "metadata": {},
          "execution_count": 4
        }
      ]
    },
    {
      "cell_type": "code",
      "source": [
        "# load the dataset\n",
        "dataframe = pandas.read_csv('international-airline-passengers.csv',\n",
        "usecols=[1], engine='python')\n",
        "dataset = dataframe.values\n",
        "dataset = dataset.astype('float32')"
      ],
      "metadata": {
        "id": "BJOswWGHNp8E"
      },
      "execution_count": 5,
      "outputs": []
    },
    {
      "cell_type": "code",
      "source": [
        "# normalize the dataset\n",
        "scaler = MinMaxScaler(feature_range=(0, 1))\n",
        "dataset = scaler.fit_transform(dataset)"
      ],
      "metadata": {
        "id": "rL2Mj3MnOFLq"
      },
      "execution_count": 6,
      "outputs": []
    },
    {
      "cell_type": "code",
      "source": [
        "# split into train and test sets\n",
        "train_size = int(len(dataset) * 0.67)\n",
        "test_size = len(dataset) - train_size\n",
        "train, test = dataset[0:train_size,:], dataset[train_size:len(dataset),:]\n",
        "print(len(train), len(test))"
      ],
      "metadata": {
        "colab": {
          "base_uri": "https://localhost:8080/"
        },
        "id": "hUmlQ8WzOKOd",
        "outputId": "3877ff9d-6e8f-46cb-c03f-125459483f87"
      },
      "execution_count": 7,
      "outputs": [
        {
          "output_type": "stream",
          "name": "stdout",
          "text": [
            "97 48\n"
          ]
        }
      ]
    },
    {
      "cell_type": "code",
      "source": [
        "def create_dataset(dataset, look_back=1):\n",
        "          dataX, dataY = [], []\n",
        "          for i in range(len(dataset)-look_back-1):\n",
        "                   a = dataset[i:(i+look_back), 0]\n",
        "                   dataX.append(a)\n",
        "                   dataY.append(dataset[i + look_back, 0])\n",
        "          return numpy.array(dataX), numpy.array(dataY)\n"
      ],
      "metadata": {
        "id": "UXrAK6iSORQ-"
      },
      "execution_count": 12,
      "outputs": []
    },
    {
      "cell_type": "code",
      "source": [
        "# reshape into X=t and Y=t+1\n",
        "look_back = 1\n",
        "trainX, trainY = create_dataset(train, look_back)\n",
        "testX, testY = create_dataset(test, look_back)\n"
      ],
      "metadata": {
        "id": "Dkqyzy1yO6Sh"
      },
      "execution_count": 13,
      "outputs": []
    },
    {
      "cell_type": "code",
      "source": [
        "# reshape input to be [samples, time steps, features]\n",
        "trainX = numpy.reshape(trainX, (trainX.shape[0], 1, trainX.shape[1]))\n",
        "testX = numpy.reshape(testX, (testX.shape[0], 1, testX.shape[1]))\n"
      ],
      "metadata": {
        "id": "Q7YIYyjvPBHM"
      },
      "execution_count": 14,
      "outputs": []
    },
    {
      "cell_type": "code",
      "source": [
        "# create and fit the LSTM network\n",
        "model = Sequential()\n",
        "model.add(LSTM(4, input_shape=(1, look_back)))\n",
        "model.add(Dense(1))\n",
        "model.compile(loss='mean_squared_error', optimizer='adam')\n",
        "model.fit(trainX, trainY, epochs=100, batch_size=1, verbose=2)"
      ],
      "metadata": {
        "colab": {
          "base_uri": "https://localhost:8080/"
        },
        "id": "QGLAU8ddPEJ2",
        "outputId": "54d75320-9fc8-4516-ac48-65c242181408"
      },
      "execution_count": 15,
      "outputs": [
        {
          "output_type": "stream",
          "name": "stdout",
          "text": [
            "Epoch 1/100\n",
            "95/95 - 3s - loss: 0.0340 - 3s/epoch - 34ms/step\n",
            "Epoch 2/100\n",
            "95/95 - 0s - loss: 0.0152 - 137ms/epoch - 1ms/step\n",
            "Epoch 3/100\n",
            "95/95 - 0s - loss: 0.0124 - 147ms/epoch - 2ms/step\n",
            "Epoch 4/100\n",
            "95/95 - 0s - loss: 0.0113 - 162ms/epoch - 2ms/step\n",
            "Epoch 5/100\n",
            "95/95 - 0s - loss: 0.0103 - 146ms/epoch - 2ms/step\n",
            "Epoch 6/100\n",
            "95/95 - 0s - loss: 0.0093 - 138ms/epoch - 1ms/step\n",
            "Epoch 7/100\n",
            "95/95 - 0s - loss: 0.0087 - 145ms/epoch - 2ms/step\n",
            "Epoch 8/100\n",
            "95/95 - 0s - loss: 0.0076 - 138ms/epoch - 1ms/step\n",
            "Epoch 9/100\n",
            "95/95 - 0s - loss: 0.0068 - 139ms/epoch - 1ms/step\n",
            "Epoch 10/100\n",
            "95/95 - 0s - loss: 0.0060 - 140ms/epoch - 1ms/step\n",
            "Epoch 11/100\n",
            "95/95 - 0s - loss: 0.0053 - 150ms/epoch - 2ms/step\n",
            "Epoch 12/100\n",
            "95/95 - 0s - loss: 0.0046 - 154ms/epoch - 2ms/step\n",
            "Epoch 13/100\n",
            "95/95 - 0s - loss: 0.0041 - 141ms/epoch - 1ms/step\n",
            "Epoch 14/100\n",
            "95/95 - 0s - loss: 0.0036 - 142ms/epoch - 1ms/step\n",
            "Epoch 15/100\n",
            "95/95 - 0s - loss: 0.0032 - 136ms/epoch - 1ms/step\n",
            "Epoch 16/100\n",
            "95/95 - 0s - loss: 0.0029 - 142ms/epoch - 1ms/step\n",
            "Epoch 17/100\n",
            "95/95 - 0s - loss: 0.0026 - 147ms/epoch - 2ms/step\n",
            "Epoch 18/100\n",
            "95/95 - 0s - loss: 0.0024 - 154ms/epoch - 2ms/step\n",
            "Epoch 19/100\n",
            "95/95 - 0s - loss: 0.0023 - 152ms/epoch - 2ms/step\n",
            "Epoch 20/100\n",
            "95/95 - 0s - loss: 0.0022 - 145ms/epoch - 2ms/step\n",
            "Epoch 21/100\n",
            "95/95 - 0s - loss: 0.0022 - 157ms/epoch - 2ms/step\n",
            "Epoch 22/100\n",
            "95/95 - 0s - loss: 0.0021 - 150ms/epoch - 2ms/step\n",
            "Epoch 23/100\n",
            "95/95 - 0s - loss: 0.0020 - 164ms/epoch - 2ms/step\n",
            "Epoch 24/100\n",
            "95/95 - 0s - loss: 0.0020 - 143ms/epoch - 2ms/step\n",
            "Epoch 25/100\n",
            "95/95 - 0s - loss: 0.0021 - 147ms/epoch - 2ms/step\n",
            "Epoch 26/100\n",
            "95/95 - 0s - loss: 0.0020 - 141ms/epoch - 1ms/step\n",
            "Epoch 27/100\n",
            "95/95 - 0s - loss: 0.0020 - 140ms/epoch - 1ms/step\n",
            "Epoch 28/100\n",
            "95/95 - 0s - loss: 0.0021 - 143ms/epoch - 2ms/step\n",
            "Epoch 29/100\n",
            "95/95 - 0s - loss: 0.0020 - 146ms/epoch - 2ms/step\n",
            "Epoch 30/100\n",
            "95/95 - 0s - loss: 0.0020 - 145ms/epoch - 2ms/step\n",
            "Epoch 31/100\n",
            "95/95 - 0s - loss: 0.0020 - 136ms/epoch - 1ms/step\n",
            "Epoch 32/100\n",
            "95/95 - 0s - loss: 0.0019 - 157ms/epoch - 2ms/step\n",
            "Epoch 33/100\n",
            "95/95 - 0s - loss: 0.0021 - 147ms/epoch - 2ms/step\n",
            "Epoch 34/100\n",
            "95/95 - 0s - loss: 0.0020 - 144ms/epoch - 2ms/step\n",
            "Epoch 35/100\n",
            "95/95 - 0s - loss: 0.0021 - 143ms/epoch - 2ms/step\n",
            "Epoch 36/100\n",
            "95/95 - 0s - loss: 0.0021 - 139ms/epoch - 1ms/step\n",
            "Epoch 37/100\n",
            "95/95 - 0s - loss: 0.0020 - 147ms/epoch - 2ms/step\n",
            "Epoch 38/100\n",
            "95/95 - 0s - loss: 0.0021 - 161ms/epoch - 2ms/step\n",
            "Epoch 39/100\n",
            "95/95 - 0s - loss: 0.0020 - 140ms/epoch - 1ms/step\n",
            "Epoch 40/100\n",
            "95/95 - 0s - loss: 0.0021 - 144ms/epoch - 2ms/step\n",
            "Epoch 41/100\n",
            "95/95 - 0s - loss: 0.0021 - 144ms/epoch - 2ms/step\n",
            "Epoch 42/100\n",
            "95/95 - 0s - loss: 0.0021 - 150ms/epoch - 2ms/step\n",
            "Epoch 43/100\n",
            "95/95 - 0s - loss: 0.0020 - 149ms/epoch - 2ms/step\n",
            "Epoch 44/100\n",
            "95/95 - 0s - loss: 0.0020 - 152ms/epoch - 2ms/step\n",
            "Epoch 45/100\n",
            "95/95 - 0s - loss: 0.0020 - 143ms/epoch - 2ms/step\n",
            "Epoch 46/100\n",
            "95/95 - 0s - loss: 0.0020 - 139ms/epoch - 1ms/step\n",
            "Epoch 47/100\n",
            "95/95 - 0s - loss: 0.0020 - 152ms/epoch - 2ms/step\n",
            "Epoch 48/100\n",
            "95/95 - 0s - loss: 0.0021 - 153ms/epoch - 2ms/step\n",
            "Epoch 49/100\n",
            "95/95 - 0s - loss: 0.0021 - 144ms/epoch - 2ms/step\n",
            "Epoch 50/100\n",
            "95/95 - 0s - loss: 0.0020 - 134ms/epoch - 1ms/step\n",
            "Epoch 51/100\n",
            "95/95 - 0s - loss: 0.0021 - 137ms/epoch - 1ms/step\n",
            "Epoch 52/100\n",
            "95/95 - 0s - loss: 0.0021 - 145ms/epoch - 2ms/step\n",
            "Epoch 53/100\n",
            "95/95 - 0s - loss: 0.0021 - 159ms/epoch - 2ms/step\n",
            "Epoch 54/100\n",
            "95/95 - 0s - loss: 0.0020 - 139ms/epoch - 1ms/step\n",
            "Epoch 55/100\n",
            "95/95 - 0s - loss: 0.0021 - 146ms/epoch - 2ms/step\n",
            "Epoch 56/100\n",
            "95/95 - 0s - loss: 0.0020 - 143ms/epoch - 2ms/step\n",
            "Epoch 57/100\n",
            "95/95 - 0s - loss: 0.0021 - 138ms/epoch - 1ms/step\n",
            "Epoch 58/100\n",
            "95/95 - 0s - loss: 0.0020 - 146ms/epoch - 2ms/step\n",
            "Epoch 59/100\n",
            "95/95 - 0s - loss: 0.0020 - 148ms/epoch - 2ms/step\n",
            "Epoch 60/100\n",
            "95/95 - 0s - loss: 0.0020 - 138ms/epoch - 1ms/step\n",
            "Epoch 61/100\n",
            "95/95 - 0s - loss: 0.0020 - 141ms/epoch - 1ms/step\n",
            "Epoch 62/100\n",
            "95/95 - 0s - loss: 0.0020 - 136ms/epoch - 1ms/step\n",
            "Epoch 63/100\n",
            "95/95 - 0s - loss: 0.0020 - 147ms/epoch - 2ms/step\n",
            "Epoch 64/100\n",
            "95/95 - 0s - loss: 0.0022 - 157ms/epoch - 2ms/step\n",
            "Epoch 65/100\n",
            "95/95 - 0s - loss: 0.0020 - 140ms/epoch - 1ms/step\n",
            "Epoch 66/100\n",
            "95/95 - 0s - loss: 0.0021 - 146ms/epoch - 2ms/step\n",
            "Epoch 67/100\n",
            "95/95 - 0s - loss: 0.0020 - 144ms/epoch - 2ms/step\n",
            "Epoch 68/100\n",
            "95/95 - 0s - loss: 0.0021 - 141ms/epoch - 1ms/step\n",
            "Epoch 69/100\n",
            "95/95 - 0s - loss: 0.0020 - 138ms/epoch - 1ms/step\n",
            "Epoch 70/100\n",
            "95/95 - 0s - loss: 0.0020 - 138ms/epoch - 1ms/step\n",
            "Epoch 71/100\n",
            "95/95 - 0s - loss: 0.0020 - 140ms/epoch - 1ms/step\n",
            "Epoch 72/100\n",
            "95/95 - 0s - loss: 0.0020 - 147ms/epoch - 2ms/step\n",
            "Epoch 73/100\n",
            "95/95 - 0s - loss: 0.0020 - 157ms/epoch - 2ms/step\n",
            "Epoch 74/100\n",
            "95/95 - 0s - loss: 0.0020 - 144ms/epoch - 2ms/step\n",
            "Epoch 75/100\n",
            "95/95 - 0s - loss: 0.0020 - 138ms/epoch - 1ms/step\n",
            "Epoch 76/100\n",
            "95/95 - 0s - loss: 0.0020 - 141ms/epoch - 1ms/step\n",
            "Epoch 77/100\n",
            "95/95 - 0s - loss: 0.0020 - 148ms/epoch - 2ms/step\n",
            "Epoch 78/100\n",
            "95/95 - 0s - loss: 0.0020 - 144ms/epoch - 2ms/step\n",
            "Epoch 79/100\n",
            "95/95 - 0s - loss: 0.0021 - 139ms/epoch - 1ms/step\n",
            "Epoch 80/100\n",
            "95/95 - 0s - loss: 0.0020 - 150ms/epoch - 2ms/step\n",
            "Epoch 81/100\n",
            "95/95 - 0s - loss: 0.0020 - 136ms/epoch - 1ms/step\n",
            "Epoch 82/100\n",
            "95/95 - 0s - loss: 0.0020 - 137ms/epoch - 1ms/step\n",
            "Epoch 83/100\n",
            "95/95 - 0s - loss: 0.0020 - 142ms/epoch - 1ms/step\n",
            "Epoch 84/100\n",
            "95/95 - 0s - loss: 0.0020 - 136ms/epoch - 1ms/step\n",
            "Epoch 85/100\n",
            "95/95 - 0s - loss: 0.0019 - 146ms/epoch - 2ms/step\n",
            "Epoch 86/100\n",
            "95/95 - 0s - loss: 0.0021 - 144ms/epoch - 2ms/step\n",
            "Epoch 87/100\n",
            "95/95 - 0s - loss: 0.0021 - 141ms/epoch - 1ms/step\n",
            "Epoch 88/100\n",
            "95/95 - 0s - loss: 0.0020 - 143ms/epoch - 2ms/step\n",
            "Epoch 89/100\n",
            "95/95 - 0s - loss: 0.0020 - 140ms/epoch - 1ms/step\n",
            "Epoch 90/100\n",
            "95/95 - 0s - loss: 0.0020 - 138ms/epoch - 1ms/step\n",
            "Epoch 91/100\n",
            "95/95 - 0s - loss: 0.0019 - 146ms/epoch - 2ms/step\n",
            "Epoch 92/100\n",
            "95/95 - 0s - loss: 0.0021 - 139ms/epoch - 1ms/step\n",
            "Epoch 93/100\n",
            "95/95 - 0s - loss: 0.0021 - 151ms/epoch - 2ms/step\n",
            "Epoch 94/100\n",
            "95/95 - 0s - loss: 0.0021 - 147ms/epoch - 2ms/step\n",
            "Epoch 95/100\n",
            "95/95 - 0s - loss: 0.0021 - 135ms/epoch - 1ms/step\n",
            "Epoch 96/100\n",
            "95/95 - 0s - loss: 0.0020 - 141ms/epoch - 1ms/step\n",
            "Epoch 97/100\n",
            "95/95 - 0s - loss: 0.0020 - 143ms/epoch - 2ms/step\n",
            "Epoch 98/100\n",
            "95/95 - 0s - loss: 0.0020 - 143ms/epoch - 2ms/step\n",
            "Epoch 99/100\n",
            "95/95 - 0s - loss: 0.0020 - 145ms/epoch - 2ms/step\n",
            "Epoch 100/100\n",
            "95/95 - 0s - loss: 0.0020 - 137ms/epoch - 1ms/step\n"
          ]
        },
        {
          "output_type": "execute_result",
          "data": {
            "text/plain": [
              "<keras.callbacks.History at 0x7f1cada5aa90>"
            ]
          },
          "metadata": {},
          "execution_count": 15
        }
      ]
    },
    {
      "cell_type": "code",
      "source": [
        "# make predictions\n",
        "trainPredict = model.predict(trainX)\n",
        "testPredict = model.predict(testX)\n",
        "# invert predictions\n",
        "trainPredict = scaler.inverse_transform(trainPredict)\n",
        "trainY = scaler.inverse_transform([trainY])\n",
        "testPredict = scaler.inverse_transform(testPredict)\n",
        "testY = scaler.inverse_transform([testY])\n",
        "# calculate root mean squared error\n",
        "trainScore = math.sqrt(mean_squared_error(trainY[0], trainPredict[:,0]))\n",
        "print('Train Score: %.2f RMSE' % (trainScore))\n",
        "testScore = math.sqrt(mean_squared_error(testY[0], testPredict[:,0]))\n",
        "print('Test Score: %.2f RMSE' % (testScore))"
      ],
      "metadata": {
        "colab": {
          "base_uri": "https://localhost:8080/"
        },
        "id": "j8fijxI-PSrK",
        "outputId": "d33ca8a4-4031-41d7-c43f-24d21591c79b"
      },
      "execution_count": 16,
      "outputs": [
        {
          "output_type": "stream",
          "name": "stdout",
          "text": [
            "Train Score: 23.10 RMSE\n",
            "Test Score: 52.52 RMSE\n"
          ]
        }
      ]
    }
  ]
}
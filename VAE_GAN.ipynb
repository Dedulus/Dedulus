{
  "nbformat": 4,
  "nbformat_minor": 0,
  "metadata": {
    "kernelspec": {
      "name": "python3",
      "display_name": "Python 3"
    },
    "language_info": {
      "codemirror_mode": {
        "name": "ipython",
        "version": 3
      },
      "file_extension": ".py",
      "mimetype": "text/x-python",
      "name": "python",
      "nbconvert_exporter": "python",
      "pygments_lexer": "ipython3",
      "version": "3.7.4"
    },
    "colab": {
      "name": "VAE_GAN.ipynb",
      "provenance": [],
      "collapsed_sections": [],
      "include_colab_link": true
    },
    "accelerator": "GPU",
    "widgets": {
      "application/vnd.jupyter.widget-state+json": {
        "a05b2f6242794586802444d21ce8549a": {
          "model_module": "@jupyter-widgets/controls",
          "model_name": "HBoxModel",
          "model_module_version": "1.5.0",
          "state": {
            "_dom_classes": [],
            "_model_module": "@jupyter-widgets/controls",
            "_model_module_version": "1.5.0",
            "_model_name": "HBoxModel",
            "_view_count": null,
            "_view_module": "@jupyter-widgets/controls",
            "_view_module_version": "1.5.0",
            "_view_name": "HBoxView",
            "box_style": "",
            "children": [
              "IPY_MODEL_ab20c0405d9c4fc284baef789d0fc06e",
              "IPY_MODEL_5f2ea143e5a24675ad06987c6f9d354c",
              "IPY_MODEL_6f24f8075db64f9d8c2b6ee26764f672"
            ],
            "layout": "IPY_MODEL_59ba5321e0774655afab209c1e043c49"
          }
        },
        "ab20c0405d9c4fc284baef789d0fc06e": {
          "model_module": "@jupyter-widgets/controls",
          "model_name": "HTMLModel",
          "model_module_version": "1.5.0",
          "state": {
            "_dom_classes": [],
            "_model_module": "@jupyter-widgets/controls",
            "_model_module_version": "1.5.0",
            "_model_name": "HTMLModel",
            "_view_count": null,
            "_view_module": "@jupyter-widgets/controls",
            "_view_module_version": "1.5.0",
            "_view_name": "HTMLView",
            "description": "",
            "description_tooltip": null,
            "layout": "IPY_MODEL_e0adafaae4a34f329179183723a92312",
            "placeholder": "​",
            "style": "IPY_MODEL_e12e0846407f4b8aabb4973f51e96f2f",
            "value": "100%"
          }
        },
        "5f2ea143e5a24675ad06987c6f9d354c": {
          "model_module": "@jupyter-widgets/controls",
          "model_name": "FloatProgressModel",
          "model_module_version": "1.5.0",
          "state": {
            "_dom_classes": [],
            "_model_module": "@jupyter-widgets/controls",
            "_model_module_version": "1.5.0",
            "_model_name": "FloatProgressModel",
            "_view_count": null,
            "_view_module": "@jupyter-widgets/controls",
            "_view_module_version": "1.5.0",
            "_view_name": "ProgressView",
            "bar_style": "success",
            "description": "",
            "description_tooltip": null,
            "layout": "IPY_MODEL_f04b7da24f0a4d52b164160e4ed40810",
            "max": 30,
            "min": 0,
            "orientation": "horizontal",
            "style": "IPY_MODEL_558dc418de6c40c49a5f9d7c8dc3f894",
            "value": 30
          }
        },
        "6f24f8075db64f9d8c2b6ee26764f672": {
          "model_module": "@jupyter-widgets/controls",
          "model_name": "HTMLModel",
          "model_module_version": "1.5.0",
          "state": {
            "_dom_classes": [],
            "_model_module": "@jupyter-widgets/controls",
            "_model_module_version": "1.5.0",
            "_model_name": "HTMLModel",
            "_view_count": null,
            "_view_module": "@jupyter-widgets/controls",
            "_view_module_version": "1.5.0",
            "_view_name": "HTMLView",
            "description": "",
            "description_tooltip": null,
            "layout": "IPY_MODEL_5895dcae38664569a3da3350f09bbfc4",
            "placeholder": "​",
            "style": "IPY_MODEL_05990213c7944cb8b8de703225905b3d",
            "value": " 30/30 [20:19&lt;00:00, 40.31s/it]"
          }
        },
        "59ba5321e0774655afab209c1e043c49": {
          "model_module": "@jupyter-widgets/base",
          "model_name": "LayoutModel",
          "model_module_version": "1.2.0",
          "state": {
            "_model_module": "@jupyter-widgets/base",
            "_model_module_version": "1.2.0",
            "_model_name": "LayoutModel",
            "_view_count": null,
            "_view_module": "@jupyter-widgets/base",
            "_view_module_version": "1.2.0",
            "_view_name": "LayoutView",
            "align_content": null,
            "align_items": null,
            "align_self": null,
            "border": null,
            "bottom": null,
            "display": null,
            "flex": null,
            "flex_flow": null,
            "grid_area": null,
            "grid_auto_columns": null,
            "grid_auto_flow": null,
            "grid_auto_rows": null,
            "grid_column": null,
            "grid_gap": null,
            "grid_row": null,
            "grid_template_areas": null,
            "grid_template_columns": null,
            "grid_template_rows": null,
            "height": null,
            "justify_content": null,
            "justify_items": null,
            "left": null,
            "margin": null,
            "max_height": null,
            "max_width": null,
            "min_height": null,
            "min_width": null,
            "object_fit": null,
            "object_position": null,
            "order": null,
            "overflow": null,
            "overflow_x": null,
            "overflow_y": null,
            "padding": null,
            "right": null,
            "top": null,
            "visibility": null,
            "width": null
          }
        },
        "e0adafaae4a34f329179183723a92312": {
          "model_module": "@jupyter-widgets/base",
          "model_name": "LayoutModel",
          "model_module_version": "1.2.0",
          "state": {
            "_model_module": "@jupyter-widgets/base",
            "_model_module_version": "1.2.0",
            "_model_name": "LayoutModel",
            "_view_count": null,
            "_view_module": "@jupyter-widgets/base",
            "_view_module_version": "1.2.0",
            "_view_name": "LayoutView",
            "align_content": null,
            "align_items": null,
            "align_self": null,
            "border": null,
            "bottom": null,
            "display": null,
            "flex": null,
            "flex_flow": null,
            "grid_area": null,
            "grid_auto_columns": null,
            "grid_auto_flow": null,
            "grid_auto_rows": null,
            "grid_column": null,
            "grid_gap": null,
            "grid_row": null,
            "grid_template_areas": null,
            "grid_template_columns": null,
            "grid_template_rows": null,
            "height": null,
            "justify_content": null,
            "justify_items": null,
            "left": null,
            "margin": null,
            "max_height": null,
            "max_width": null,
            "min_height": null,
            "min_width": null,
            "object_fit": null,
            "object_position": null,
            "order": null,
            "overflow": null,
            "overflow_x": null,
            "overflow_y": null,
            "padding": null,
            "right": null,
            "top": null,
            "visibility": null,
            "width": null
          }
        },
        "e12e0846407f4b8aabb4973f51e96f2f": {
          "model_module": "@jupyter-widgets/controls",
          "model_name": "DescriptionStyleModel",
          "model_module_version": "1.5.0",
          "state": {
            "_model_module": "@jupyter-widgets/controls",
            "_model_module_version": "1.5.0",
            "_model_name": "DescriptionStyleModel",
            "_view_count": null,
            "_view_module": "@jupyter-widgets/base",
            "_view_module_version": "1.2.0",
            "_view_name": "StyleView",
            "description_width": ""
          }
        },
        "f04b7da24f0a4d52b164160e4ed40810": {
          "model_module": "@jupyter-widgets/base",
          "model_name": "LayoutModel",
          "model_module_version": "1.2.0",
          "state": {
            "_model_module": "@jupyter-widgets/base",
            "_model_module_version": "1.2.0",
            "_model_name": "LayoutModel",
            "_view_count": null,
            "_view_module": "@jupyter-widgets/base",
            "_view_module_version": "1.2.0",
            "_view_name": "LayoutView",
            "align_content": null,
            "align_items": null,
            "align_self": null,
            "border": null,
            "bottom": null,
            "display": null,
            "flex": null,
            "flex_flow": null,
            "grid_area": null,
            "grid_auto_columns": null,
            "grid_auto_flow": null,
            "grid_auto_rows": null,
            "grid_column": null,
            "grid_gap": null,
            "grid_row": null,
            "grid_template_areas": null,
            "grid_template_columns": null,
            "grid_template_rows": null,
            "height": null,
            "justify_content": null,
            "justify_items": null,
            "left": null,
            "margin": null,
            "max_height": null,
            "max_width": null,
            "min_height": null,
            "min_width": null,
            "object_fit": null,
            "object_position": null,
            "order": null,
            "overflow": null,
            "overflow_x": null,
            "overflow_y": null,
            "padding": null,
            "right": null,
            "top": null,
            "visibility": null,
            "width": null
          }
        },
        "558dc418de6c40c49a5f9d7c8dc3f894": {
          "model_module": "@jupyter-widgets/controls",
          "model_name": "ProgressStyleModel",
          "model_module_version": "1.5.0",
          "state": {
            "_model_module": "@jupyter-widgets/controls",
            "_model_module_version": "1.5.0",
            "_model_name": "ProgressStyleModel",
            "_view_count": null,
            "_view_module": "@jupyter-widgets/base",
            "_view_module_version": "1.2.0",
            "_view_name": "StyleView",
            "bar_color": null,
            "description_width": ""
          }
        },
        "5895dcae38664569a3da3350f09bbfc4": {
          "model_module": "@jupyter-widgets/base",
          "model_name": "LayoutModel",
          "model_module_version": "1.2.0",
          "state": {
            "_model_module": "@jupyter-widgets/base",
            "_model_module_version": "1.2.0",
            "_model_name": "LayoutModel",
            "_view_count": null,
            "_view_module": "@jupyter-widgets/base",
            "_view_module_version": "1.2.0",
            "_view_name": "LayoutView",
            "align_content": null,
            "align_items": null,
            "align_self": null,
            "border": null,
            "bottom": null,
            "display": null,
            "flex": null,
            "flex_flow": null,
            "grid_area": null,
            "grid_auto_columns": null,
            "grid_auto_flow": null,
            "grid_auto_rows": null,
            "grid_column": null,
            "grid_gap": null,
            "grid_row": null,
            "grid_template_areas": null,
            "grid_template_columns": null,
            "grid_template_rows": null,
            "height": null,
            "justify_content": null,
            "justify_items": null,
            "left": null,
            "margin": null,
            "max_height": null,
            "max_width": null,
            "min_height": null,
            "min_width": null,
            "object_fit": null,
            "object_position": null,
            "order": null,
            "overflow": null,
            "overflow_x": null,
            "overflow_y": null,
            "padding": null,
            "right": null,
            "top": null,
            "visibility": null,
            "width": null
          }
        },
        "05990213c7944cb8b8de703225905b3d": {
          "model_module": "@jupyter-widgets/controls",
          "model_name": "DescriptionStyleModel",
          "model_module_version": "1.5.0",
          "state": {
            "_model_module": "@jupyter-widgets/controls",
            "_model_module_version": "1.5.0",
            "_model_name": "DescriptionStyleModel",
            "_view_count": null,
            "_view_module": "@jupyter-widgets/base",
            "_view_module_version": "1.2.0",
            "_view_name": "StyleView",
            "description_width": ""
          }
        }
      }
    },
    "gpuClass": "standard"
  },
  "cells": [
    {
      "cell_type": "markdown",
      "metadata": {
        "id": "view-in-github",
        "colab_type": "text"
      },
      "source": [
        "<a href=\"https://colab.research.google.com/github/Dedulus/Dedulus/blob/main/VAE_GAN.ipynb\" target=\"_parent\"><img src=\"https://colab.research.google.com/assets/colab-badge.svg\" alt=\"Open In Colab\"/></a>"
      ]
    },
    {
      "cell_type": "code",
      "metadata": {
        "id": "cdf_RHdCEMRH"
      },
      "source": [
        "\n",
        "\n",
        "import numpy as np\n",
        "import tensorflow as tf\n",
        "from tensorflow.keras import layers\n",
        "import tensorflow.keras as k\n",
        "import matplotlib.pyplot as plt\n",
        "\n",
        "\n",
        "from tqdm import tqdm_notebook as tqdm\n",
        "import seaborn as sns\n",
        "from importlib import reload\n",
        "\n",
        "\n"
      ],
      "execution_count": 12,
      "outputs": []
    },
    {
      "cell_type": "code",
      "source": [
        "!nvidia-smi"
      ],
      "metadata": {
        "colab": {
          "base_uri": "https://localhost:8080/"
        },
        "id": "XMBqIdY7h-Op",
        "outputId": "dccce675-c97e-4c53-f134-0f05dadd3a39"
      },
      "execution_count": 3,
      "outputs": [
        {
          "output_type": "stream",
          "name": "stdout",
          "text": [
            "Sat Jul 23 14:48:39 2022       \n",
            "+-----------------------------------------------------------------------------+\n",
            "| NVIDIA-SMI 460.32.03    Driver Version: 460.32.03    CUDA Version: 11.2     |\n",
            "|-------------------------------+----------------------+----------------------+\n",
            "| GPU  Name        Persistence-M| Bus-Id        Disp.A | Volatile Uncorr. ECC |\n",
            "| Fan  Temp  Perf  Pwr:Usage/Cap|         Memory-Usage | GPU-Util  Compute M. |\n",
            "|                               |                      |               MIG M. |\n",
            "|===============================+======================+======================|\n",
            "|   0  Tesla T4            Off  | 00000000:00:04.0 Off |                    0 |\n",
            "| N/A   54C    P0    28W /  70W |    284MiB / 15109MiB |      0%      Default |\n",
            "|                               |                      |                  N/A |\n",
            "+-------------------------------+----------------------+----------------------+\n",
            "                                                                               \n",
            "+-----------------------------------------------------------------------------+\n",
            "| Processes:                                                                  |\n",
            "|  GPU   GI   CI        PID   Type   Process name                  GPU Memory |\n",
            "|        ID   ID                                                   Usage      |\n",
            "|=============================================================================|\n",
            "+-----------------------------------------------------------------------------+\n"
          ]
        }
      ]
    },
    {
      "cell_type": "code",
      "metadata": {
        "id": "V3DGILjAEMRS"
      },
      "source": [
        "BATCH_SIZE = 128\n",
        "LATENT_DIM = 10\n",
        "SIZE = 28\n",
        "NUM_CHANNELS = 1\n",
        "LR = 0.0001\n",
        "BETA = 1.\n",
        "GAMMA = 1."
      ],
      "execution_count": 4,
      "outputs": []
    },
    {
      "cell_type": "code",
      "metadata": {
        "id": "wAPzfWiBEMRY"
      },
      "source": [
        "### loading mnist data\n",
        "(train_images, y_train), (test_images, y_test) = tf.keras.datasets.mnist.load_data()\n",
        "train_images = train_images.reshape((-1,28,28,1)).astype('float32')\n",
        "test_images = test_images.reshape((-1,28,28,1)).astype('float32')\n",
        "train_images /= 255.\n",
        "test_images /= 255.\n",
        "\n",
        "train_dataset = tf.data.Dataset.from_tensor_slices(train_images).shuffle(1000).batch(BATCH_SIZE)\n",
        "test_dataset = tf.data.Dataset.from_tensor_slices(test_images).shuffle(1000).batch(BATCH_SIZE)"
      ],
      "execution_count": 5,
      "outputs": []
    },
    {
      "cell_type": "code",
      "metadata": {
        "scrolled": true,
        "id": "PuBFpJOeEMRg"
      },
      "source": [
        "import numpy as np\n",
        "import tensorflow as tf\n",
        "from tensorflow.keras import layers\n",
        "import tensorflow.keras as k\n",
        "\n",
        "def make_model(SIZE=28, LATENT_DIM=10, BETA=1., GAMMA=1.):\n",
        "\n",
        "    def sample(inputs):\n",
        "        z_mean, z_log_var = inputs\n",
        "        batch = tf.shape(z_mean)[0]\n",
        "        epsilon = tf.random.normal(shape=(batch, LATENT_DIM))\n",
        "        return z_mean + tf.exp(0.5 * z_log_var) * epsilon\n",
        "    \n",
        "    # Encoder\n",
        "    encoder_inputs = layers.Input(shape=(SIZE, SIZE, 1), name='encoder_input')\n",
        "    e = layers.Conv2D(filters=8,kernel_size=5,padding='SAME',activation='relu',strides=(2,2))(encoder_inputs)\n",
        "    e = layers.BatchNormalization()(e)\n",
        "    e = layers.Conv2D(filters=16,kernel_size=5,padding='SAME',activation='relu',strides=(2,2))(e)\n",
        "    e = layers.BatchNormalization()(e)\n",
        "    e = layers.Flatten()(e)\n",
        "    z_mean = layers.Dense(LATENT_DIM, name='z_mean')(e)\n",
        "    z_log_var = layers.Dense(LATENT_DIM, name='z_log_var')(e)\n",
        "    encoder = k.Model(inputs=encoder_inputs, outputs=[z_mean, z_log_var], name='encoder')\n",
        "    \n",
        "    \n",
        "    # Decoder\n",
        "    decoder_inputs = layers.Input(shape=(LATENT_DIM,), name='decoder_input')\n",
        "    d = layers.Dense(units=7*7*8,activation='relu')(decoder_inputs)\n",
        "    d = layers.Reshape((7,7,8))(d)\n",
        "    d = layers.Conv2DTranspose(filters=16,kernel_size=4,strides=(2, 2), padding=\"SAME\", activation='relu')(d)\n",
        "    d = layers.Conv2DTranspose(filters=32,kernel_size=4,strides=(2, 2), padding=\"SAME\", activation='relu')(d)\n",
        "    decoded = layers.Conv2DTranspose(filters=1, kernel_size=3,strides=(1, 1), padding=\"SAME\")(d)\n",
        "    decoder = k.Model(inputs=decoder_inputs, outputs=decoded, name='decoder')\n",
        "    \n",
        "    \n",
        "    # GAN Discriminator\n",
        "    discriminator_input = layers.Input(shape=(SIZE, SIZE, 1), name='discriminator_input')\n",
        "    p = layers.Conv2D(filters=8,kernel_size=5,padding='SAME',activation='relu',strides=(2,2))(discriminator_input)\n",
        "    p = layers.BatchNormalization()(p)\n",
        "    p = layers.Conv2D(filters=16,kernel_size=5,padding='SAME',activation='relu',strides=(2,2))(p)\n",
        "    p = layers.BatchNormalization()(p)\n",
        "    p = layers.Flatten()(p)\n",
        "    out = layers.Dense(1, name='discriminator_out')(p)\n",
        "    discriminator = k.Model(inputs=discriminator_input, outputs=[out,p] , name='discriminator')\n",
        "    \n",
        "    \n",
        "    sampler = layers.Lambda(sample)\n",
        "    vae = k.Model(inputs=encoder_inputs, outputs=decoder(sampler([z_mean, z_log_var])), name='vae')\n",
        "\n",
        "    \n",
        "    def log_normal_pdf(sample, mean, logvar, raxis=1):\n",
        "        log2pi = tf.math.log(2. * np.pi)\n",
        "        return tf.reduce_sum(-.5 * ((sample - mean) ** 2. * tf.exp(-logvar) + logvar + log2pi), axis=raxis)\n",
        "    \n",
        "    \n",
        "    def calculate_loss(x):\n",
        "        z_p = tf.random.normal(shape=(tf.shape(x)[0],LATENT_DIM))\n",
        "        z_mean, z_log_var = encoder(x)\n",
        "        z = sample([z_mean, z_log_var])\n",
        "        out = decoder(z)\n",
        "        x_p = decoder(z_p)\n",
        "        dis_x_p, dis_x_p_feat = discriminator(x_p)\n",
        "        dis_x, dis_x_feat = discriminator(x)\n",
        "        dis_x_tilde , dis_x_tilde_feat = discriminator(out)\n",
        "\n",
        "        # kl loss\n",
        "        logpz = log_normal_pdf(z, 0., 0.)\n",
        "        logqz_x = log_normal_pdf(z, z_mean, z_log_var)\n",
        "        kl_loss = tf.reduce_mean(logqz_x - logpz)\n",
        "\n",
        "        \n",
        "        # gaussian perceptual loss as reconstruction loss\n",
        "        reconstruction_loss = -tf.reduce_mean(log_normal_pdf(dis_x_feat, dis_x_tilde_feat, tf.zeros_like(dis_x_tilde_feat)))\n",
        "        \n",
        "\n",
        "        # gan loss\n",
        "        cross_entropy = k.losses.BinaryCrossentropy(from_logits=True)\n",
        "        g_fake = cross_entropy(tf.ones_like(dis_x_tilde), dis_x_tilde)\n",
        "        g_fake_p = cross_entropy(tf.ones_like(dis_x_p), dis_x_p)\n",
        "        d_real = cross_entropy(tf.ones_like(dis_x), dis_x)\n",
        "        d_fake = cross_entropy(tf.zeros_like(dis_x_tilde), dis_x_tilde)\n",
        "        d_fake_p = cross_entropy(tf.zeros_like(dis_x_p), dis_x_p)\n",
        "\n",
        "        return BETA*kl_loss , GAMMA*reconstruction_loss , g_fake + g_fake_p, d_fake + d_fake_p + d_real\n",
        "        \n",
        "    \n",
        "    def feed(x, encoder, decoder, discriminator, optimizer):\n",
        "    \n",
        "        with tf.GradientTape(persistent=True) as tape:\n",
        "            l_kl, l_rec, l_gen, l_dis = calculate_loss(x)\n",
        "            l_enc = l_kl + l_rec\n",
        "            l_dec = l_rec + l_gen\n",
        "\n",
        "        enc_grads = tape.gradient(l_enc, encoder.trainable_variables)\n",
        "        optimizer.apply_gradients(zip(enc_grads, encoder.trainable_variables))\n",
        "\n",
        "        dec_grads = tape.gradient(l_dec, decoder.trainable_variables)\n",
        "        optimizer.apply_gradients(zip(dec_grads, decoder.trainable_variables))\n",
        "\n",
        "        dis_grads = tape.gradient(l_dis, discriminator.trainable_variables)\n",
        "        optimizer.apply_gradients(zip(dis_grads, discriminator.trainable_variables))\n",
        "\n",
        "        return l_kl.numpy(), l_rec.numpy(), l_gen.numpy(), l_dis.numpy()\n",
        "\n",
        "\n",
        "    def train(x, encoder, decoder, discriminator, optimizer):\n",
        "        l_kl, l_rec, l_gen, l_dis = 0., 0., 0., 0.\n",
        "        n = 0\n",
        "        for train_x in x:\n",
        "            a, b, c, d = feed(train_x, encoder, decoder, discriminator, optimizer)\n",
        "            l_kl += a\n",
        "            l_rec += b\n",
        "            l_gen += c\n",
        "            l_dis += d\n",
        "            n += 1\n",
        "        \n",
        "        return l_kl / n, l_rec / n, l_gen / n, l_dis / n\n",
        "    \n",
        "    \n",
        "    return encoder, decoder, discriminator, vae, train"
      ],
      "execution_count": 6,
      "outputs": []
    },
    {
      "cell_type": "code",
      "metadata": {
        "id": "q87LMVSlGX_E",
        "colab": {
          "base_uri": "https://localhost:8080/"
        },
        "outputId": "06a9ec16-5250-4517-eece-c06533a4b0fb"
      },
      "source": [
        "encoder, decoder, discriminator, vae, train = make_model()\n",
        "vae.summary()"
      ],
      "execution_count": 7,
      "outputs": [
        {
          "output_type": "stream",
          "name": "stdout",
          "text": [
            "Model: \"vae\"\n",
            "__________________________________________________________________________________________________\n",
            " Layer (type)                   Output Shape         Param #     Connected to                     \n",
            "==================================================================================================\n",
            " encoder_input (InputLayer)     [(None, 28, 28, 1)]  0           []                               \n",
            "                                                                                                  \n",
            " conv2d (Conv2D)                (None, 14, 14, 8)    208         ['encoder_input[0][0]']          \n",
            "                                                                                                  \n",
            " batch_normalization (BatchNorm  (None, 14, 14, 8)   32          ['conv2d[0][0]']                 \n",
            " alization)                                                                                       \n",
            "                                                                                                  \n",
            " conv2d_1 (Conv2D)              (None, 7, 7, 16)     3216        ['batch_normalization[0][0]']    \n",
            "                                                                                                  \n",
            " batch_normalization_1 (BatchNo  (None, 7, 7, 16)    64          ['conv2d_1[0][0]']               \n",
            " rmalization)                                                                                     \n",
            "                                                                                                  \n",
            " flatten (Flatten)              (None, 784)          0           ['batch_normalization_1[0][0]']  \n",
            "                                                                                                  \n",
            " z_mean (Dense)                 (None, 10)           7850        ['flatten[0][0]']                \n",
            "                                                                                                  \n",
            " z_log_var (Dense)              (None, 10)           7850        ['flatten[0][0]']                \n",
            "                                                                                                  \n",
            " lambda (Lambda)                (None, 10)           0           ['z_mean[0][0]',                 \n",
            "                                                                  'z_log_var[0][0]']              \n",
            "                                                                                                  \n",
            " decoder (Functional)           (None, 28, 28, 1)    14889       ['lambda[0][0]']                 \n",
            "                                                                                                  \n",
            "==================================================================================================\n",
            "Total params: 34,109\n",
            "Trainable params: 34,061\n",
            "Non-trainable params: 48\n",
            "__________________________________________________________________________________________________\n"
          ]
        }
      ]
    },
    {
      "cell_type": "code",
      "metadata": {
        "scrolled": true,
        "id": "zGlh1c79EMRn",
        "colab": {
          "base_uri": "https://localhost:8080/",
          "height": 1000,
          "referenced_widgets": [
            "a05b2f6242794586802444d21ce8549a",
            "ab20c0405d9c4fc284baef789d0fc06e",
            "5f2ea143e5a24675ad06987c6f9d354c",
            "6f24f8075db64f9d8c2b6ee26764f672",
            "59ba5321e0774655afab209c1e043c49",
            "e0adafaae4a34f329179183723a92312",
            "e12e0846407f4b8aabb4973f51e96f2f",
            "f04b7da24f0a4d52b164160e4ed40810",
            "558dc418de6c40c49a5f9d7c8dc3f894",
            "5895dcae38664569a3da3350f09bbfc4",
            "05990213c7944cb8b8de703225905b3d"
          ]
        },
        "outputId": "9d205bfb-6431-4f7a-8046-b4d595e51437"
      },
      "source": [
        "for epoch in tqdm(range(30)):\n",
        "    l = train(train_dataset, encoder, decoder, discriminator, k.optimizers.Adam(1e-4))\n",
        "    if (epoch+1) % 1 == 0:\n",
        "        print('\\n'+'kl_loss:', l[0], 'rec_loss:', l[1], 'gen_loss:', l[2], 'dis_loss:', l[3])"
      ],
      "execution_count": 8,
      "outputs": [
        {
          "output_type": "stream",
          "name": "stderr",
          "text": [
            "/usr/local/lib/python3.7/dist-packages/ipykernel_launcher.py:1: TqdmDeprecationWarning: This function will be removed in tqdm==5.0.0\n",
            "Please use `tqdm.notebook.tqdm` instead of `tqdm.tqdm_notebook`\n",
            "  \"\"\"Entry point for launching an IPython kernel.\n"
          ]
        },
        {
          "output_type": "display_data",
          "data": {
            "text/plain": [
              "  0%|          | 0/30 [00:00<?, ?it/s]"
            ],
            "application/vnd.jupyter.widget-view+json": {
              "version_major": 2,
              "version_minor": 0,
              "model_id": "a05b2f6242794586802444d21ce8549a"
            }
          },
          "metadata": {}
        },
        {
          "output_type": "stream",
          "name": "stdout",
          "text": [
            "\n",
            "kl_loss: 3.3193389805141034 rec_loss: 740.6876444542078 gen_loss: 2.6157553595012186 dis_loss: 1.3895711499744896\n",
            "\n",
            "kl_loss: 9.369007594549833 rec_loss: 749.9792312589535 gen_loss: 3.4548508571917567 dis_loss: 1.0450295500917983\n",
            "\n",
            "kl_loss: 11.770656880539363 rec_loss: 748.6171316704008 gen_loss: 3.3956381329087053 dis_loss: 1.3916471129033103\n",
            "\n",
            "kl_loss: 13.775984849502791 rec_loss: 753.6142165584605 gen_loss: 4.420873210374226 dis_loss: 0.7024144145217277\n",
            "\n",
            "kl_loss: 17.064535387035118 rec_loss: 764.9458081991688 gen_loss: 5.253953963200421 dis_loss: 0.5530623372302634\n",
            "\n",
            "kl_loss: 19.562286629097294 rec_loss: 774.9264687739455 gen_loss: 5.707812194376866 dis_loss: 0.4727287457060458\n",
            "\n",
            "kl_loss: 21.490689165810785 rec_loss: 786.6692359127215 gen_loss: 6.34216011002628 dis_loss: 0.3724137274568269\n",
            "\n",
            "kl_loss: 22.894925916627017 rec_loss: 798.3626571037114 gen_loss: 6.911695771125842 dis_loss: 0.3036499680486569\n",
            "\n",
            "kl_loss: 23.971029415821977 rec_loss: 808.7120503179555 gen_loss: 7.334560827405722 dis_loss: 0.26477385018425964\n",
            "\n",
            "kl_loss: 24.837767725051847 rec_loss: 817.6401171979111 gen_loss: 7.7298209916299845 dis_loss: 0.23356866801598433\n",
            "\n",
            "kl_loss: 25.531106509633663 rec_loss: 826.453075807486 gen_loss: 8.182355885820856 dis_loss: 0.1999783137841011\n",
            "\n",
            "kl_loss: 26.237041058570846 rec_loss: 835.4884566772721 gen_loss: 8.60518279207795 dis_loss: 0.17324989911780428\n",
            "\n",
            "kl_loss: 26.815692421724037 rec_loss: 844.2415965391375 gen_loss: 8.950874143571996 dis_loss: 0.15805880630067162\n",
            "\n",
            "kl_loss: 27.321746578094547 rec_loss: 852.2574440767007 gen_loss: 9.160402923250503 dis_loss: 0.15206329553112038\n",
            "\n",
            "kl_loss: 27.9027377374645 rec_loss: 861.3016065910681 gen_loss: 9.457957814751403 dis_loss: 0.13801262853369275\n",
            "\n",
            "kl_loss: 28.343968495122915 rec_loss: 870.0326880351313 gen_loss: 9.7759486424135 dis_loss: 0.12893735301265838\n",
            "\n",
            "kl_loss: 28.80534556374621 rec_loss: 878.0802435315749 gen_loss: 10.025360388033935 dis_loss: 0.12107885274678659\n",
            "\n",
            "kl_loss: 29.195130085894295 rec_loss: 885.9635094355926 gen_loss: 10.207829566906764 dis_loss: 0.11755054996910888\n",
            "\n",
            "kl_loss: 29.533801731524438 rec_loss: 893.3043042408632 gen_loss: 10.419142552276156 dis_loss: 0.11421987991025453\n",
            "\n",
            "kl_loss: 29.854194287298075 rec_loss: 899.3192231070512 gen_loss: 10.569473152730003 dis_loss: 0.11065031456222921\n",
            "\n",
            "kl_loss: 30.143669437497916 rec_loss: 905.3838193848698 gen_loss: 10.794162205287389 dis_loss: 0.1068254986932791\n",
            "\n",
            "kl_loss: 30.445733357085857 rec_loss: 911.1321990251033 gen_loss: 10.995721371697465 dis_loss: 0.10168196503986428\n",
            "\n",
            "kl_loss: 30.622521927107627 rec_loss: 915.9639326473797 gen_loss: 11.207460936198611 dis_loss: 0.09863950581406988\n",
            "\n",
            "kl_loss: 30.806819972707263 rec_loss: 919.8851876655367 gen_loss: 11.290710473619798 dis_loss: 0.09470754601299636\n",
            "\n",
            "kl_loss: 30.99198083125198 rec_loss: 923.5146149917961 gen_loss: 11.61139020838463 dis_loss: 0.08912652899334425\n",
            "\n",
            "kl_loss: 31.077675028396314 rec_loss: 926.0107436190282 gen_loss: 11.770993112755228 dis_loss: 0.08833372511112614\n",
            "\n",
            "kl_loss: 31.234712080152303 rec_loss: 928.0524856795126 gen_loss: 11.80362646208643 dis_loss: 0.08575199493594261\n",
            "\n",
            "kl_loss: 31.361683188725127 rec_loss: 930.8705065631663 gen_loss: 12.018375654972946 dis_loss: 0.07737473316236472\n",
            "\n",
            "kl_loss: 31.477039629970786 rec_loss: 933.9309763959221 gen_loss: 12.212301083465121 dis_loss: 0.0750355078860609\n",
            "\n",
            "kl_loss: 31.57327589754865 rec_loss: 935.6377084565315 gen_loss: 12.451203754970006 dis_loss: 0.07538945213439804\n"
          ]
        }
      ]
    },
    {
      "cell_type": "code",
      "metadata": {
        "id": "BeWcqe4nEMRz",
        "colab": {
          "base_uri": "https://localhost:8080/",
          "height": 575
        },
        "outputId": "16df366b-3e25-4481-a871-39cc371d6c8a"
      },
      "source": [
        "m, n = 5,8\n",
        "preds = decoder.predict(np.random.normal(size=(m*n,LATENT_DIM)))\n",
        "plt.figure(figsize=(n*2, m*2))\n",
        "for i in range(m*n):\n",
        "    plt.subplot(m, n,i +1)\n",
        "    plt.imshow(preds[i, :, :, 0], cmap='gray')\n",
        "    plt.axis('off')\n",
        "plt.show()"
      ],
      "execution_count": 10,
      "outputs": [
        {
          "output_type": "display_data",
          "data": {
            "text/plain": [
              "<Figure size 1152x720 with 40 Axes>"
            ],
            "image/png": "[encoded data removed]"
          },
          "metadata": {
            "needs_background": "light"
          }
        }
      ]
    },
    {
      "cell_type": "code",
      "metadata": {
        "id": "RiYXszi5EMR9"
      },
      "source": [
        ""
      ],
      "execution_count": null,
      "outputs": []
    }
  ]
}